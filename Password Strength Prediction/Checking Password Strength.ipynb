{
 "cells": [
  {
   "cell_type": "markdown",
   "id": "100bb693",
   "metadata": {},
   "source": [
    "# Importing Required Libraries"
   ]
  },
  {
   "cell_type": "code",
   "execution_count": 60,
   "id": "b8f1aadf",
   "metadata": {},
   "outputs": [],
   "source": [
    "import warnings\n",
    "warnings.simplefilter('ignore')\n",
    "\n",
    "import random\n",
    "import numpy as np\n",
    "import pandas as pd\n",
    "import seaborn as sns\n",
    "\n",
    "from sklearn.feature_extraction.text import TfidfVectorizer\n",
    "from sklearn.model_selection import train_test_split\n",
    "from sklearn.linear_model import LogisticRegression\n",
    "\n",
    "from sklearn.metrics import accuracy_score, f1_score, recall_score, precision_score"
   ]
  },
  {
   "cell_type": "markdown",
   "id": "a869fd02",
   "metadata": {},
   "source": [
    "# Importing Data"
   ]
  },
  {
   "cell_type": "code",
   "execution_count": 34,
   "id": "d65034ba",
   "metadata": {},
   "outputs": [],
   "source": [
    "data = pd.read_csv(r\"Password Strength.csv\", on_bad_lines='skip')\n",
    "\n",
    "# we are using \"on_bad_lines\" to skip the line where it cannot \n",
    "# be parsed or have some other issue that prevents them from being processed as expected."
   ]
  },
  {
   "cell_type": "code",
   "execution_count": 35,
   "id": "b4f0b0c0",
   "metadata": {},
   "outputs": [
    {
     "data": {
      "text/html": [
       "<div>\n",
       "<style scoped>\n",
       "    .dataframe tbody tr th:only-of-type {\n",
       "        vertical-align: middle;\n",
       "    }\n",
       "\n",
       "    .dataframe tbody tr th {\n",
       "        vertical-align: top;\n",
       "    }\n",
       "\n",
       "    .dataframe thead th {\n",
       "        text-align: right;\n",
       "    }\n",
       "</style>\n",
       "<table border=\"1\" class=\"dataframe\">\n",
       "  <thead>\n",
       "    <tr style=\"text-align: right;\">\n",
       "      <th></th>\n",
       "      <th>password</th>\n",
       "      <th>strength</th>\n",
       "    </tr>\n",
       "  </thead>\n",
       "  <tbody>\n",
       "    <tr>\n",
       "      <th>0</th>\n",
       "      <td>kzde5577</td>\n",
       "      <td>1</td>\n",
       "    </tr>\n",
       "    <tr>\n",
       "      <th>1</th>\n",
       "      <td>kino3434</td>\n",
       "      <td>1</td>\n",
       "    </tr>\n",
       "    <tr>\n",
       "      <th>2</th>\n",
       "      <td>visi7k1yr</td>\n",
       "      <td>1</td>\n",
       "    </tr>\n",
       "    <tr>\n",
       "      <th>3</th>\n",
       "      <td>megzy123</td>\n",
       "      <td>1</td>\n",
       "    </tr>\n",
       "    <tr>\n",
       "      <th>4</th>\n",
       "      <td>lamborghin1</td>\n",
       "      <td>1</td>\n",
       "    </tr>\n",
       "    <tr>\n",
       "      <th>5</th>\n",
       "      <td>AVYq1lDE4MgAZfNt</td>\n",
       "      <td>2</td>\n",
       "    </tr>\n",
       "    <tr>\n",
       "      <th>6</th>\n",
       "      <td>u6c8vhow</td>\n",
       "      <td>1</td>\n",
       "    </tr>\n",
       "    <tr>\n",
       "      <th>7</th>\n",
       "      <td>v1118714</td>\n",
       "      <td>1</td>\n",
       "    </tr>\n",
       "    <tr>\n",
       "      <th>8</th>\n",
       "      <td>universe2908</td>\n",
       "      <td>1</td>\n",
       "    </tr>\n",
       "    <tr>\n",
       "      <th>9</th>\n",
       "      <td>as326159</td>\n",
       "      <td>1</td>\n",
       "    </tr>\n",
       "  </tbody>\n",
       "</table>\n",
       "</div>"
      ],
      "text/plain": [
       "           password  strength\n",
       "0          kzde5577         1\n",
       "1          kino3434         1\n",
       "2         visi7k1yr         1\n",
       "3          megzy123         1\n",
       "4       lamborghin1         1\n",
       "5  AVYq1lDE4MgAZfNt         2\n",
       "6          u6c8vhow         1\n",
       "7          v1118714         1\n",
       "8      universe2908         1\n",
       "9          as326159         1"
      ]
     },
     "execution_count": 35,
     "metadata": {},
     "output_type": "execute_result"
    }
   ],
   "source": [
    "data.head(10)"
   ]
  },
  {
   "cell_type": "code",
   "execution_count": 36,
   "id": "f2b752ce",
   "metadata": {},
   "outputs": [
    {
     "data": {
      "text/plain": [
       "(669640, 2)"
      ]
     },
     "execution_count": 36,
     "metadata": {},
     "output_type": "execute_result"
    }
   ],
   "source": [
    "data.shape"
   ]
  },
  {
   "cell_type": "code",
   "execution_count": 37,
   "id": "939c302f",
   "metadata": {},
   "outputs": [
    {
     "data": {
      "text/plain": [
       "password    1\n",
       "strength    0\n",
       "dtype: int64"
      ]
     },
     "execution_count": 37,
     "metadata": {},
     "output_type": "execute_result"
    }
   ],
   "source": [
    "data.isnull().sum()"
   ]
  },
  {
   "cell_type": "code",
   "execution_count": 38,
   "id": "0e50b420",
   "metadata": {},
   "outputs": [
    {
     "data": {
      "text/html": [
       "<div>\n",
       "<style scoped>\n",
       "    .dataframe tbody tr th:only-of-type {\n",
       "        vertical-align: middle;\n",
       "    }\n",
       "\n",
       "    .dataframe tbody tr th {\n",
       "        vertical-align: top;\n",
       "    }\n",
       "\n",
       "    .dataframe thead th {\n",
       "        text-align: right;\n",
       "    }\n",
       "</style>\n",
       "<table border=\"1\" class=\"dataframe\">\n",
       "  <thead>\n",
       "    <tr style=\"text-align: right;\">\n",
       "      <th></th>\n",
       "      <th>password</th>\n",
       "      <th>strength</th>\n",
       "    </tr>\n",
       "  </thead>\n",
       "  <tbody>\n",
       "    <tr>\n",
       "      <th>367579</th>\n",
       "      <td>NaN</td>\n",
       "      <td>0</td>\n",
       "    </tr>\n",
       "  </tbody>\n",
       "</table>\n",
       "</div>"
      ],
      "text/plain": [
       "       password  strength\n",
       "367579      NaN         0"
      ]
     },
     "execution_count": 38,
     "metadata": {},
     "output_type": "execute_result"
    }
   ],
   "source": [
    "data[data.isnull().any(axis=1)]"
   ]
  },
  {
   "cell_type": "code",
   "execution_count": 39,
   "id": "b72318b1",
   "metadata": {},
   "outputs": [],
   "source": [
    "df = data.dropna()"
   ]
  },
  {
   "cell_type": "code",
   "execution_count": 40,
   "id": "483b808a",
   "metadata": {},
   "outputs": [
    {
     "data": {
      "text/plain": [
       "password    0\n",
       "strength    0\n",
       "dtype: int64"
      ]
     },
     "execution_count": 40,
     "metadata": {},
     "output_type": "execute_result"
    }
   ],
   "source": [
    "df.isnull().sum()"
   ]
  },
  {
   "cell_type": "code",
   "execution_count": 41,
   "id": "f196a494",
   "metadata": {},
   "outputs": [
    {
     "data": {
      "text/plain": [
       "1    496801\n",
       "0     89701\n",
       "2     83137\n",
       "Name: strength, dtype: int64"
      ]
     },
     "execution_count": 41,
     "metadata": {},
     "output_type": "execute_result"
    }
   ],
   "source": [
    "df[\"strength\"].value_counts()"
   ]
  },
  {
   "cell_type": "code",
   "execution_count": 42,
   "id": "b329292b",
   "metadata": {},
   "outputs": [
    {
     "data": {
      "text/plain": [
       "<AxesSubplot:xlabel='strength', ylabel='count'>"
      ]
     },
     "execution_count": 42,
     "metadata": {},
     "output_type": "execute_result"
    },
    {
     "data": {
      "image/png": "[encoded data removed]",
      "text/plain": [
       "<Figure size 640x480 with 1 Axes>"
      ]
     },
     "metadata": {},
     "output_type": "display_data"
    }
   ],
   "source": [
    "sns.countplot(x = 'strength', data = df)"
   ]
  },
  {
   "cell_type": "code",
   "execution_count": 43,
   "id": "10fdc4ad",
   "metadata": {},
   "outputs": [],
   "source": [
    "x = df['password']\n",
    "\n",
    "y = df['strength']"
   ]
  },
  {
   "cell_type": "code",
   "execution_count": 44,
   "id": "5e2161b0",
   "metadata": {},
   "outputs": [
    {
     "data": {
      "text/plain": [
       "0             kzde5577\n",
       "1             kino3434\n",
       "2            visi7k1yr\n",
       "3             megzy123\n",
       "4          lamborghin1\n",
       "              ...     \n",
       "669635      10redtux10\n",
       "669636       infrared1\n",
       "669637    184520socram\n",
       "669638       marken22a\n",
       "669639        fxx4pw4g\n",
       "Name: password, Length: 669639, dtype: object"
      ]
     },
     "execution_count": 44,
     "metadata": {},
     "output_type": "execute_result"
    }
   ],
   "source": [
    "x"
   ]
  },
  {
   "cell_type": "code",
   "execution_count": 45,
   "id": "759bffa8",
   "metadata": {},
   "outputs": [
    {
     "data": {
      "text/plain": [
       "0         1\n",
       "1         1\n",
       "2         1\n",
       "3         1\n",
       "4         1\n",
       "         ..\n",
       "669635    1\n",
       "669636    1\n",
       "669637    1\n",
       "669638    1\n",
       "669639    1\n",
       "Name: strength, Length: 669639, dtype: int64"
      ]
     },
     "execution_count": 45,
     "metadata": {},
     "output_type": "execute_result"
    }
   ],
   "source": [
    "y"
   ]
  },
  {
   "cell_type": "code",
   "execution_count": 46,
   "id": "911e2ea9",
   "metadata": {},
   "outputs": [
    {
     "data": {
      "text/plain": [
       "0"
      ]
     },
     "execution_count": 46,
     "metadata": {},
     "output_type": "execute_result"
    }
   ],
   "source": [
    "x.isnull().sum()"
   ]
  },
  {
   "cell_type": "code",
   "execution_count": 47,
   "id": "9ff66803",
   "metadata": {},
   "outputs": [],
   "source": [
    "def character(inputs):\n",
    "    \n",
    "    characters = []\n",
    "    for i in inputs:\n",
    "        characters.append(i)\n",
    "        \n",
    "    return characters "
   ]
  },
  {
   "cell_type": "code",
   "execution_count": 48,
   "id": "5110f68a",
   "metadata": {},
   "outputs": [],
   "source": [
    "vec = TfidfVectorizer(tokenizer = character)\n",
    "x = vec.fit_transform(x)"
   ]
  },
  {
   "cell_type": "code",
   "execution_count": 49,
   "id": "60770ff4",
   "metadata": {
    "scrolled": true
   },
   "outputs": [
    {
     "data": {
      "text/plain": [
       "{'k': 66,\n",
       " 'z': 81,\n",
       " 'd': 59,\n",
       " 'e': 60,\n",
       " '5': 39,\n",
       " '7': 41,\n",
       " 'i': 64,\n",
       " 'n': 69,\n",
       " 'o': 70,\n",
       " '3': 37,\n",
       " '4': 38,\n",
       " 'v': 77,\n",
       " 's': 74,\n",
       " '1': 35,\n",
       " 'y': 80,\n",
       " 'r': 73,\n",
       " 'm': 68,\n",
       " 'g': 62,\n",
       " '2': 36,\n",
       " 'l': 67,\n",
       " 'a': 56,\n",
       " 'b': 57,\n",
       " 'h': 63,\n",
       " 'q': 72,\n",
       " 'f': 61,\n",
       " 't': 75,\n",
       " 'u': 76,\n",
       " '6': 40,\n",
       " 'c': 58,\n",
       " '8': 42,\n",
       " 'w': 78,\n",
       " '9': 43,\n",
       " '0': 34,\n",
       " 'j': 65,\n",
       " 'p': 71,\n",
       " '@': 49,\n",
       " '-': 31,\n",
       " 'x': 79,\n",
       " '.': 32,\n",
       " '>': 47,\n",
       " '&': 26,\n",
       " '?': 48,\n",
       " '<': 45,\n",
       " '!': 21,\n",
       " ';': 44,\n",
       " '_': 54,\n",
       " '%': 25,\n",
       " '±': 99,\n",
       " '\"': 22,\n",
       " '~': 85,\n",
       " '+': 30,\n",
       " '^': 53,\n",
       " '/': 33,\n",
       " '$': 24,\n",
       " ')': 28,\n",
       " ' ': 20,\n",
       " '(': 27,\n",
       " '#': 23,\n",
       " 'ú': 138,\n",
       " '*': 29,\n",
       " '`': 55,\n",
       " '{': 82,\n",
       " '}': 84,\n",
       " '[': 50,\n",
       " ']': 52,\n",
       " 'þ': 142,\n",
       " 'ó': 132,\n",
       " 'ô': 133,\n",
       " '=': 46,\n",
       " '\\\\': 51,\n",
       " '\\x1c': 17,\n",
       " '³': 101,\n",
       " '¿': 112,\n",
       " '\\x16': 12,\n",
       " 'ò': 131,\n",
       " '·': 105,\n",
       " '\\x1e': 19,\n",
       " '\\x19': 15,\n",
       " '\\x05': 3,\n",
       " '\\x1b': 16,\n",
       " 'å': 120,\n",
       " '‚': 147,\n",
       " 'ä': 119,\n",
       " 'à': 115,\n",
       " 'õ': 134,\n",
       " 'ß': 114,\n",
       " '´': 102,\n",
       " '«': 96,\n",
       " 'ð': 129,\n",
       " 'â': 117,\n",
       " '°': 98,\n",
       " '|': 83,\n",
       " '\\x7f': 86,\n",
       " '²': 100,\n",
       " '¾': 111,\n",
       " 'ÿ': 143,\n",
       " '\\x08': 5,\n",
       " 'ê': 125,\n",
       " 'á': 116,\n",
       " '\\x10': 8,\n",
       " '\\x17': 13,\n",
       " 'º': 107,\n",
       " '¡': 90,\n",
       " '÷': 136,\n",
       " 'í': 126,\n",
       " 'µ': 103,\n",
       " 'ý': 141,\n",
       " 'ü': 140,\n",
       " 'û': 139,\n",
       " 'ö': 135,\n",
       " '×': 113,\n",
       " '¨': 95,\n",
       " '\\xa0': 89,\n",
       " 'æ': 121,\n",
       " 'è': 123,\n",
       " 'ù': 137,\n",
       " 'é': 124,\n",
       " '\\x06': 4,\n",
       " 'ñ': 130,\n",
       " '\\x81': 87,\n",
       " '\\x11': 9,\n",
       " '—': 146,\n",
       " '›': 151,\n",
       " '‹': 150,\n",
       " 'œ': 144,\n",
       " '™': 152,\n",
       " '¦': 93,\n",
       " '\\x0f': 7,\n",
       " 'ï': 128,\n",
       " 'ç': 122,\n",
       " '\\x12': 10,\n",
       " '\\x8d': 88,\n",
       " 'î': 127,\n",
       " '¹': 106,\n",
       " '¶': 104,\n",
       " '¼': 109,\n",
       " '…': 149,\n",
       " '\\x13': 11,\n",
       " '\\x1d': 18,\n",
       " '\\x04': 2,\n",
       " '\\x0e': 6,\n",
       " '\\x02': 1,\n",
       " '¯': 97,\n",
       " '\\x01': 0,\n",
       " '‡': 148,\n",
       " '¤': 92,\n",
       " '¢': 91,\n",
       " 'ƒ': 145,\n",
       " '§': 94,\n",
       " 'ã': 118,\n",
       " '»': 108,\n",
       " '\\x18': 14,\n",
       " '½': 110}"
      ]
     },
     "execution_count": 49,
     "metadata": {},
     "output_type": "execute_result"
    }
   ],
   "source": [
    "vec.vocabulary_"
   ]
  },
  {
   "cell_type": "code",
   "execution_count": 50,
   "id": "63def452",
   "metadata": {},
   "outputs": [
    {
     "data": {
      "text/plain": [
       "(669639, 153)"
      ]
     },
     "execution_count": 50,
     "metadata": {},
     "output_type": "execute_result"
    }
   ],
   "source": [
    "x.shape"
   ]
  },
  {
   "cell_type": "code",
   "execution_count": 51,
   "id": "bd2fcdfa",
   "metadata": {},
   "outputs": [],
   "source": [
    "x_train, x_test, y_train, y_test = train_test_split(x, y, test_size = 0.2, random_state = 1000)"
   ]
  },
  {
   "cell_type": "code",
   "execution_count": 52,
   "id": "c8dab824",
   "metadata": {},
   "outputs": [
    {
     "name": "stdout",
     "output_type": "stream",
     "text": [
      "(669639, 153)\n",
      "(535711, 153)\n",
      "(133928, 153)\n"
     ]
    }
   ],
   "source": [
    "print(x.shape)\n",
    "print(x_train.shape)\n",
    "print(x_test.shape)"
   ]
  },
  {
   "cell_type": "markdown",
   "id": "bea87e5a",
   "metadata": {},
   "source": [
    "# Logistic Regression"
   ]
  },
  {
   "cell_type": "code",
   "execution_count": 54,
   "id": "90d80166",
   "metadata": {},
   "outputs": [],
   "source": [
    "lr = LogisticRegression()"
   ]
  },
  {
   "cell_type": "code",
   "execution_count": 55,
   "id": "b9ef2896",
   "metadata": {},
   "outputs": [
    {
     "data": {
      "text/plain": [
       "LogisticRegression()"
      ]
     },
     "execution_count": 55,
     "metadata": {},
     "output_type": "execute_result"
    }
   ],
   "source": [
    "lr.fit(x_train, y_train)"
   ]
  },
  {
   "cell_type": "code",
   "execution_count": 57,
   "id": "56b5a739",
   "metadata": {},
   "outputs": [],
   "source": [
    "y_pred_test = lr.predict(x_test)\n",
    "\n",
    "y_pred_train = lr.predict(x_train)"
   ]
  },
  {
   "cell_type": "code",
   "execution_count": 63,
   "id": "b6ee184c",
   "metadata": {},
   "outputs": [],
   "source": [
    "test_acc = accuracy_score(y_test, y_pred_test)\n",
    "\n",
    "train_acc = accuracy_score(y_train, y_pred_train)"
   ]
  },
  {
   "cell_type": "code",
   "execution_count": 64,
   "id": "ba2077e7",
   "metadata": {},
   "outputs": [
    {
     "name": "stdout",
     "output_type": "stream",
     "text": [
      "0.8185517591541724\n",
      "0.8192570247764186\n"
     ]
    }
   ],
   "source": [
    "print(test_acc)\n",
    "\n",
    "print(train_acc)"
   ]
  },
  {
   "cell_type": "markdown",
   "id": "b71edf29",
   "metadata": {},
   "source": [
    "# Gradient Boosting"
   ]
  },
  {
   "cell_type": "code",
   "execution_count": 65,
   "id": "dfc6cf07",
   "metadata": {},
   "outputs": [],
   "source": [
    "from sklearn.ensemble import GradientBoostingClassifier\n",
    "\n",
    "gb_model = GradientBoostingClassifier()"
   ]
  },
  {
   "cell_type": "code",
   "execution_count": 66,
   "id": "37340bfd",
   "metadata": {},
   "outputs": [],
   "source": [
    "gb_model.fit(x_train, y_train)\n",
    "\n",
    "y_pred_gb = gb_model.predict(x_test)"
   ]
  },
  {
   "cell_type": "code",
   "execution_count": 68,
   "id": "a7315ab7",
   "metadata": {},
   "outputs": [
    {
     "data": {
      "text/plain": [
       "0.9133862971148677"
      ]
     },
     "execution_count": 68,
     "metadata": {},
     "output_type": "execute_result"
    }
   ],
   "source": [
    "test_acc_1 = accuracy_score(y_test, y_pred_gb)\n",
    "test_acc_1"
   ]
  },
  {
   "cell_type": "markdown",
   "id": "c61f16e6",
   "metadata": {},
   "source": [
    "# Data Validation"
   ]
  },
  {
   "cell_type": "code",
   "execution_count": 79,
   "id": "6638cd91",
   "metadata": {},
   "outputs": [
    {
     "name": "stdout",
     "output_type": "stream",
     "text": [
      "kalyanscrewedyou#847\n",
      "[2]\n"
     ]
    }
   ],
   "source": [
    "user_inp = input()\n",
    "user_inp = np.array([user_inp])\n",
    "user_inp = vec.transform(user_inp)\n",
    "\n",
    "y_pred = gb_model.predict(user_inp)\n",
    "\n",
    "print(y_pred)"
   ]
  }
 ],
 "metadata": {
  "kernelspec": {
   "display_name": "Python 3 (ipykernel)",
   "language": "python",
   "name": "python3"
  },
  "language_info": {
   "codemirror_mode": {
    "name": "ipython",
    "version": 3
   },
   "file_extension": ".py",
   "mimetype": "text/x-python",
   "name": "python",
   "nbconvert_exporter": "python",
   "pygments_lexer": "ipython3",
   "version": "3.9.13"
  }
 },
 "nbformat": 4,
 "nbformat_minor": 5
}
