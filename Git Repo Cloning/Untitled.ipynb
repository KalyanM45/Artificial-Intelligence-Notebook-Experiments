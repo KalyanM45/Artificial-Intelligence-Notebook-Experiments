{
 "cells": [
  {
   "cell_type": "code",
   "execution_count": null,
   "id": "d77fd299",
   "metadata": {},
   "outputs": [
    {
     "name": "stdout",
     "output_type": "stream",
     "text": [
      "Repositories: ['Airbnb-Price-Prediction', 'Application-Tracking-System', 'Article-Web-Scraping', 'Artificial-Intelligence-Notebook-Experiments', 'Automated-ML-Modelling', 'Basic-Calculator', 'Book-Recommendation-System-Using-Collaborative-Filtering', 'Chatbot-Using-Langchain', 'Checking-Password-Strength-using-Machine-Learning', 'Command-Line-Chatting-App', 'Complete-Data-Science-Materials', 'Conversational-Chatbot-using-Langchain', 'Data-Structures-and-Algorithms-Preparation', 'Data-Version-Control-Demo', 'DeOldify-Your-Memories', 'Diabetes-Prediction-using-Machine-Learning', 'Diamond-Price-Prediction', 'DocGenius-Revolutionizing-PDFs-with-AI', 'Docker-Demo', 'E-Commerce-Data-Analysis', 'E-Mail-Sender', 'End-to-End-Airbnb-Price-Prediction', 'End-to-End-Chest-Disease-Classification', 'End-to-End-Image-Scraping', 'End-to-End-US-Visa-Approval-Prediction', 'Flight-Fare-Prediction', 'Gemini-ChatBot', 'Getting-Started-with-Gemini', 'Gold-Commodity-Price-Prediction', 'Hand-Tracking-Using-Opencv', 'Heart-Disease-Prediction', 'House-Price-Prediction', 'Imagining-the-Text-with-DALL-E', 'Indian-Restaurants-Data-Analysis', 'Interest-Payment-Calculator', 'KalyanM45', 'KalyanM45.github.io', 'Kidney-Disease-Classification', 'Machine-Learning-Notebook-Experiments', 'Medical-Assisstant', 'Medical-Chatbot-using-Llama-2', 'Medicine-Recognition-System', 'Medium-Machine-Learning', 'MLflow-Demo', 'Mouse-Auto-Clicker', 'OpenHealth', 'Optical-Character-Recognition', 'Password-Generator', 'Power-BI-Reports-and-Dashboards-Practice', 'Practice', 'Project-Gallery', 'Python-ASCII-Encryption', 'Python-Dictionary', 'Python-Plagiarism-Checker', 'Python-Practice-Problems', 'QR-Code-Generator', 'Rock-and-Mine-Detection', 'Script-Correction-using-Gingerit', 'Spam-Email-Detection', 'Student-Perfomance-Prediction', 'Text-Summarization-using-NLP', 'Ultimate-Data-Science-Materials', 'Virat-Kohli-Score-Analytics', 'Website-Portfolio', 'Wine-Quality-Prediction', 'YouTube-Content-Scraper', 'Youtube-Video-Downloader']\n"
     ]
    }
   ],
   "source": [
    "import os\n",
    "import requests\n",
    "\n",
    "def scrape_github_repositories(username):\n",
    "    page = 1\n",
    "    repositories = []\n",
    "    while True:\n",
    "        url = f'https://api.github.com/users/{username}/repos?page={page}&per_page=100'\n",
    "        response = requests.get(url)\n",
    "        if response.status_code == 200:\n",
    "            repos_on_page = response.json()\n",
    "            if len(repos_on_page) == 0:\n",
    "                break\n",
    "            repositories.extend([repo['name'] for repo in repos_on_page])\n",
    "            page += 1\n",
    "        else:\n",
    "            print(f\"Failed to fetch repositories. Status code: {response.status_code}\")\n",
    "            break\n",
    "    return repositories\n",
    "\n",
    "def clone_github_repositories(username, repositories):\n",
    "    os.makedirs(username, exist_ok=True)\n",
    "    for repo in repositories:\n",
    "        repo_url = f'https://github.com/{username}/{repo}.git'\n",
    "        destination_folder = os.path.join(username, repo)\n",
    "        os.system(f'git clone {repo_url} {destination_folder}')\n",
    "\n",
    "# Example usage:\n",
    "username = 'KalyanM45'\n",
    "repositories = scrape_github_repositories(username)\n",
    "print(\"Repositories:\", repositories)\n",
    "\n",
    "clone_github_repositories(username, repositories)"
   ]
  },
  {
   "cell_type": "code",
   "execution_count": null,
   "id": "b67a876f",
   "metadata": {},
   "outputs": [],
   "source": []
  }
 ],
 "metadata": {
  "kernelspec": {
   "display_name": "Python 3 (ipykernel)",
   "language": "python",
   "name": "python3"
  },
  "language_info": {
   "codemirror_mode": {
    "name": "ipython",
    "version": 3
   },
   "file_extension": ".py",
   "mimetype": "text/x-python",
   "name": "python",
   "nbconvert_exporter": "python",
   "pygments_lexer": "ipython3",
   "version": "3.11.5"
  }
 },
 "nbformat": 4,
 "nbformat_minor": 5
}
