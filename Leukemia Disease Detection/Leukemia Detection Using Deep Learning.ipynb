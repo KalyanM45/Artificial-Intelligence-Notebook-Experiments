{
 "cells": [
  {
   "cell_type": "code",
   "execution_count": 1,
   "metadata": {
    "id": "r21znHMX_i-m"
   },
   "outputs": [],
   "source": [
    "import numpy as np\n",
    "import matplotlib.pyplot as plt\n",
    "import glob\n",
    "import cv2\n",
    "\n",
    "import os\n",
    "from keras.applications.densenet import DenseNet201\n",
    "\n",
    "import warnings\n",
    "warnings.simplefilter(\"ignore\")"
   ]
  },
  {
   "cell_type": "code",
   "execution_count": 2,
   "metadata": {
    "colab": {
     "base_uri": "https://localhost:8080/"
    },
    "executionInfo": {
     "elapsed": 9,
     "status": "ok",
     "timestamp": 1710859950650,
     "user": {
      "displayName": "Geeta Kiranmai",
      "userId": "15754665420331015956"
     },
     "user_tz": -330
    },
    "id": "voLETkADA1Pi",
    "outputId": "c8d12432-00de-4085-f8b7-476cf81eaf3d"
   },
   "outputs": [
    {
     "name": "stdout",
     "output_type": "stream",
     "text": [
      "['test', 'train']\n"
     ]
    }
   ],
   "source": [
    "# Read input images and assign labels based on folder names\n",
    "print(os.listdir(\"Artifacts\"))\n",
    "\n",
    "SIZE = 64 #Resize images"
   ]
  },
  {
   "cell_type": "code",
   "execution_count": 3,
   "metadata": {
    "colab": {
     "base_uri": "https://localhost:8080/"
    },
    "executionInfo": {
     "elapsed": 112177,
     "status": "ok",
     "timestamp": 1710860062821,
     "user": {
      "displayName": "Geeta Kiranmai",
      "userId": "15754665420331015956"
     },
     "user_tz": -330
    },
    "id": "3n_c4ys4BTmt",
    "outputId": "d14ad985-8031-443b-9b10-27e127b676e9"
   },
   "outputs": [
    {
     "name": "stdout",
     "output_type": "stream",
     "text": [
      "train\\Leukemia\n",
      "train\\Myeloma\n",
      "train\\Normal\n"
     ]
    }
   ],
   "source": [
    "#Capture training data and labels into respective lists\n",
    "train_images = []\n",
    "train_labels = []\n",
    "\n",
    "for directory_path in glob.glob(\"Artifacts/train/*\"):\n",
    "    label = directory_path.split(\"/\")[-1]\n",
    "    print(label)\n",
    "    for img_path in glob.glob(os.path.join(directory_path, \"*\")):\n",
    "        #print(img_path)\n",
    "        img = cv2.imread(img_path, cv2.IMREAD_COLOR)\n",
    "        img = cv2.resize(img, (SIZE, SIZE))\n",
    "        img = cv2.cvtColor(img, cv2.COLOR_RGB2BGR)\n",
    "        train_images.append(img)\n",
    "        train_labels.append(label)\n",
    "\n",
    "#Convert lists to arrays\n",
    "train_images = np.array(train_images)\n",
    "train_labels = np.array(train_labels)"
   ]
  },
  {
   "cell_type": "code",
   "execution_count": 4,
   "metadata": {
    "colab": {
     "base_uri": "https://localhost:8080/"
    },
    "executionInfo": {
     "elapsed": 35,
     "status": "ok",
     "timestamp": 1710860062822,
     "user": {
      "displayName": "Geeta Kiranmai",
      "userId": "15754665420331015956"
     },
     "user_tz": -330
    },
    "id": "ABmNI7rIA1SZ",
    "outputId": "547cd0a3-d6a6-461a-fa5d-38c9b9f81db0"
   },
   "outputs": [
    {
     "data": {
      "text/plain": [
       "(4520, 64, 64, 3)"
      ]
     },
     "execution_count": 4,
     "metadata": {},
     "output_type": "execute_result"
    }
   ],
   "source": [
    "train_images.shape"
   ]
  },
  {
   "cell_type": "code",
   "execution_count": 5,
   "metadata": {
    "id": "f3SAqNA5A1Uz"
   },
   "outputs": [],
   "source": [
    "# Capture test/validation data and labels into respective lists\n",
    "\n",
    "test_images = []\n",
    "test_labels = []\n",
    "for directory_path in glob.glob(\"Artifacts/test/*\"):\n",
    "    fruit_label = directory_path.split(\"/\")[-1]\n",
    "    for img_path in glob.glob(os.path.join(directory_path, \"*\")):\n",
    "        img = cv2.imread(img_path, cv2.IMREAD_COLOR)\n",
    "        img = cv2.resize(img, (SIZE, SIZE))\n",
    "        img = cv2.cvtColor(img, cv2.COLOR_RGB2BGR)\n",
    "        test_images.append(img)\n",
    "        test_labels.append(fruit_label)\n",
    "\n",
    "#Convert lists to arrays\n",
    "test_images = np.array(test_images)\n",
    "test_labels = np.array(test_labels)"
   ]
  },
  {
   "cell_type": "code",
   "execution_count": 6,
   "metadata": {
    "colab": {
     "base_uri": "https://localhost:8080/"
    },
    "executionInfo": {
     "elapsed": 18,
     "status": "ok",
     "timestamp": 1710860081423,
     "user": {
      "displayName": "Geeta Kiranmai",
      "userId": "15754665420331015956"
     },
     "user_tz": -330
    },
    "id": "Z95ZamA4A1Ya",
    "outputId": "fc16f47f-1749-4dc4-ad66-240ffa6ff410"
   },
   "outputs": [
    {
     "data": {
      "text/plain": [
       "(1500, 64, 64, 3)"
      ]
     },
     "execution_count": 6,
     "metadata": {},
     "output_type": "execute_result"
    }
   ],
   "source": [
    "test_images.shape"
   ]
  },
  {
   "cell_type": "code",
   "execution_count": 7,
   "metadata": {
    "colab": {
     "base_uri": "https://localhost:8080/"
    },
    "executionInfo": {
     "elapsed": 14,
     "status": "ok",
     "timestamp": 1710860081423,
     "user": {
      "displayName": "Geeta Kiranmai",
      "userId": "15754665420331015956"
     },
     "user_tz": -330
    },
    "id": "v-U8LOM0BnE_",
    "outputId": "b5f0d548-bb26-4a83-d5f8-9668d705e477"
   },
   "outputs": [
    {
     "data": {
      "text/plain": [
       "array(['train\\\\Leukemia', 'train\\\\Myeloma', 'train\\\\Normal'], dtype='<U14')"
      ]
     },
     "execution_count": 7,
     "metadata": {},
     "output_type": "execute_result"
    }
   ],
   "source": [
    "np.unique(train_labels)"
   ]
  },
  {
   "cell_type": "code",
   "execution_count": 8,
   "metadata": {
    "id": "8Coqir9TBnH-"
   },
   "outputs": [],
   "source": [
    "#Encode labels from text to integers.\n",
    "from sklearn import preprocessing\n",
    "le = preprocessing.LabelEncoder()\n",
    "le.fit(test_labels)\n",
    "test_labels_encoded = le.transform(test_labels)\n",
    "le.fit(train_labels)\n",
    "train_labels_encoded = le.transform(train_labels)"
   ]
  },
  {
   "cell_type": "code",
   "execution_count": 9,
   "metadata": {
    "colab": {
     "base_uri": "https://localhost:8080/"
    },
    "executionInfo": {
     "elapsed": 10,
     "status": "ok",
     "timestamp": 1710860082265,
     "user": {
      "displayName": "Geeta Kiranmai",
      "userId": "15754665420331015956"
     },
     "user_tz": -330
    },
    "id": "aRl6F1VFBnK5",
    "outputId": "c10d356c-be92-46f7-af48-c6889a944d5d"
   },
   "outputs": [
    {
     "name": "stdout",
     "output_type": "stream",
     "text": [
      "[0 1 2]\n"
     ]
    }
   ],
   "source": [
    "print(np.unique(train_labels_encoded))"
   ]
  },
  {
   "cell_type": "code",
   "execution_count": 10,
   "metadata": {
    "id": "vEFPxVcIBnN0"
   },
   "outputs": [],
   "source": [
    "#Split data into test and train datasets (already split but assigning to meaningful convention)\n",
    "x_train, y_train, x_test, y_test = train_images, train_labels_encoded, test_images, test_labels_encoded"
   ]
  },
  {
   "cell_type": "code",
   "execution_count": 11,
   "metadata": {
    "id": "sr8lQJeTBnQ0"
   },
   "outputs": [],
   "source": [
    "#Normalize pixel values to between 0 and 1\n",
    "x_train, x_test = x_train / 255.0, x_test / 255.0"
   ]
  },
  {
   "cell_type": "code",
   "execution_count": 12,
   "metadata": {
    "colab": {
     "base_uri": "https://localhost:8080/"
    },
    "executionInfo": {
     "elapsed": 6183,
     "status": "ok",
     "timestamp": 1710860088443,
     "user": {
      "displayName": "Geeta Kiranmai",
      "userId": "15754665420331015956"
     },
     "user_tz": -330
    },
    "id": "lNmk6aXw4ojj",
    "outputId": "3bb2fed9-25aa-46a3-df34-728f8000b1f8"
   },
   "outputs": [
    {
     "name": "stdout",
     "output_type": "stream",
     "text": [
      "Collecting keras-tuner\n",
      "  Obtaining dependency information for keras-tuner from https://files.pythonhosted.org/packages/db/5d/945296512980b0827e93418514c8be9236baa6f0a1e8ca8be3a2026665b0/keras_tuner-1.4.7-py3-none-any.whl.metadata\n",
      "  Downloading keras_tuner-1.4.7-py3-none-any.whl.metadata (5.4 kB)\n",
      "Requirement already satisfied: keras in c:\\users\\kalyan\\anaconda3\\lib\\site-packages (from keras-tuner) (2.12.0)\n",
      "Requirement already satisfied: packaging in c:\\users\\kalyan\\anaconda3\\lib\\site-packages (from keras-tuner) (23.2)\n",
      "Requirement already satisfied: requests in c:\\users\\kalyan\\anaconda3\\lib\\site-packages (from keras-tuner) (2.31.0)\n",
      "Collecting kt-legacy (from keras-tuner)\n",
      "  Obtaining dependency information for kt-legacy from https://files.pythonhosted.org/packages/16/53/aca9f36da2516db008017db85a1f3cafaee0efc5fc7a25d94c909651792f/kt_legacy-1.0.5-py3-none-any.whl.metadata\n",
      "  Downloading kt_legacy-1.0.5-py3-none-any.whl.metadata (221 bytes)\n",
      "Requirement already satisfied: charset-normalizer<4,>=2 in c:\\users\\kalyan\\anaconda3\\lib\\site-packages (from requests->keras-tuner) (3.3.2)\n",
      "Requirement already satisfied: idna<4,>=2.5 in c:\\users\\kalyan\\anaconda3\\lib\\site-packages (from requests->keras-tuner) (3.4)\n",
      "Requirement already satisfied: urllib3<3,>=1.21.1 in c:\\users\\kalyan\\anaconda3\\lib\\site-packages (from requests->keras-tuner) (2.1.0)\n",
      "Requirement already satisfied: certifi>=2017.4.17 in c:\\users\\kalyan\\anaconda3\\lib\\site-packages (from requests->keras-tuner) (2024.2.2)\n",
      "Downloading keras_tuner-1.4.7-py3-none-any.whl (129 kB)\n",
      "   ---------------------------------------- 0.0/129.1 kB ? eta -:--:--\n",
      "   ------ -------------------------------- 20.5/129.1 kB 640.0 kB/s eta 0:00:01\n",
      "   ------ -------------------------------- 20.5/129.1 kB 640.0 kB/s eta 0:00:01\n",
      "   ------ -------------------------------- 20.5/129.1 kB 640.0 kB/s eta 0:00:01\n",
      "   --------------- ----------------------- 51.2/129.1 kB 262.6 kB/s eta 0:00:01\n",
      "   --------------------- ----------------- 71.7/129.1 kB 357.2 kB/s eta 0:00:01\n",
      "   --------------------- ----------------- 71.7/129.1 kB 357.2 kB/s eta 0:00:01\n",
      "   -------------------------------------- 129.1/129.1 kB 423.2 kB/s eta 0:00:00\n",
      "Downloading kt_legacy-1.0.5-py3-none-any.whl (9.6 kB)\n",
      "Installing collected packages: kt-legacy, keras-tuner\n",
      "Successfully installed keras-tuner-1.4.7 kt-legacy-1.0.5\n",
      "Note: you may need to restart the kernel to use updated packages.\n"
     ]
    }
   ],
   "source": [
    "pip install keras-tuner"
   ]
  },
  {
   "cell_type": "code",
   "execution_count": 13,
   "metadata": {
    "colab": {
     "base_uri": "https://localhost:8080/"
    },
    "executionInfo": {
     "elapsed": 7035151,
     "status": "ok",
     "timestamp": 1710872647811,
     "user": {
      "displayName": "Geeta Kiranmai",
      "userId": "15754665420331015956"
     },
     "user_tz": -330
    },
    "id": "OLi8XvYS2VL6",
    "outputId": "f1798539-0357-4ba0-a59e-22244b11325f"
   },
   "outputs": [
    {
     "name": "stdout",
     "output_type": "stream",
     "text": [
      "Trial 3 Complete [00h 06m 30s]\n",
      "val_accuracy: 0.9566666483879089\n",
      "\n",
      "Best val_accuracy So Far: 0.9886666536331177\n",
      "Total elapsed time: 00h 11m 54s\n",
      "Epoch 1/10\n",
      "142/142 [==============================] - 18s 123ms/step - loss: 0.5077 - accuracy: 0.7252 - val_loss: 0.3977 - val_accuracy: 0.7813\n",
      "Epoch 2/10\n",
      "142/142 [==============================] - 81s 571ms/step - loss: 0.2464 - accuracy: 0.8945 - val_loss: 0.2212 - val_accuracy: 0.9267\n",
      "Epoch 3/10\n",
      "142/142 [==============================] - 200s 1s/step - loss: 0.1586 - accuracy: 0.9316 - val_loss: 0.1068 - val_accuracy: 0.9887\n",
      "Epoch 4/10\n",
      "142/142 [==============================] - 23s 156ms/step - loss: 0.1475 - accuracy: 0.9414 - val_loss: 0.3202 - val_accuracy: 0.8540\n",
      "Epoch 5/10\n",
      "142/142 [==============================] - 15s 108ms/step - loss: 0.1089 - accuracy: 0.9569 - val_loss: 0.1297 - val_accuracy: 0.9640\n",
      "Epoch 6/10\n",
      "142/142 [==============================] - 15s 108ms/step - loss: 0.0956 - accuracy: 0.9604 - val_loss: 0.1538 - val_accuracy: 0.9473\n",
      "Epoch 7/10\n",
      "142/142 [==============================] - 15s 108ms/step - loss: 0.0722 - accuracy: 0.9708 - val_loss: 0.2392 - val_accuracy: 0.8967\n",
      "Epoch 8/10\n",
      "142/142 [==============================] - 16s 110ms/step - loss: 0.0973 - accuracy: 0.9646 - val_loss: 0.1132 - val_accuracy: 0.9613\n",
      "Epoch 9/10\n",
      "142/142 [==============================] - 15s 109ms/step - loss: 0.0664 - accuracy: 0.9728 - val_loss: 0.1512 - val_accuracy: 0.9407\n",
      "Epoch 10/10\n",
      "142/142 [==============================] - 16s 111ms/step - loss: 0.0807 - accuracy: 0.9677 - val_loss: 0.1149 - val_accuracy: 0.9500\n"
     ]
    },
    {
     "data": {
      "text/plain": [
       "<keras.callbacks.History at 0x151b1e62890>"
      ]
     },
     "execution_count": 13,
     "metadata": {},
     "output_type": "execute_result"
    }
   ],
   "source": [
    "import numpy as np\n",
    "import tensorflow as tf\n",
    "from tensorflow import keras\n",
    "from tensorflow.keras import layers\n",
    "from kerastuner.tuners import RandomSearch\n",
    "\n",
    "# Define your neural network model\n",
    "def build_model(hp):\n",
    "    model = keras.Sequential()\n",
    "    model.add(layers.Conv2D(hp.Int('conv1_units', min_value=32, max_value=256, step=32), (3, 3), activation='relu', input_shape=(64, 64, 3)))\n",
    "    model.add(layers.MaxPooling2D((2, 2)))\n",
    "    model.add(layers.Conv2D(hp.Int('conv2_units', min_value=32, max_value=256, step=32), (3, 3), activation='relu'))\n",
    "    model.add(layers.MaxPooling2D((2, 2)))\n",
    "    model.add(layers.Conv2D(hp.Int('conv3_units', min_value=32, max_value=256, step=32), (3, 3), activation='relu'))\n",
    "    model.add(layers.MaxPooling2D((2, 2)))\n",
    "    model.add(layers.Flatten())\n",
    "    model.add(layers.Dense(hp.Int('dense_units', min_value=32, max_value=256, step=32), activation='relu'))\n",
    "    model.add(layers.Dense(3, activation='softmax'))\n",
    "\n",
    "    model.compile(optimizer='adam', loss='sparse_categorical_crossentropy', metrics=['accuracy'])\n",
    "\n",
    "    return model\n",
    "\n",
    "# Define the hyperparameter search space\n",
    "tuner = RandomSearch(\n",
    "    build_model,\n",
    "    objective='val_accuracy',\n",
    "    max_trials=3,  # Number of trials (model configurations) to test\n",
    "    executions_per_trial=1,\n",
    "    directory='cs_tuning',  # Directory to store tuning logs and checkpoints\n",
    "    project_name='neural_network'  # Name of the project\n",
    ")\n",
    "\n",
    "# Perform the hyperparameter search\n",
    "tuner.search(x_train, y_train, epochs=10, validation_data=(x_test, y_test))\n",
    "\n",
    "# Get the best hyperparameters\n",
    "best_hps = tuner.get_best_hyperparameters(num_trials=1)[0]\n",
    "\n",
    "# Build the model with the best hyperparameters\n",
    "best_model = tuner.hypermodel.build(best_hps)\n",
    "\n",
    "# Train the model with the best hyperparameters\n",
    "best_model.fit(x_train, y_train, epochs=10, validation_data=(x_test, y_test))\n"
   ]
  },
  {
   "cell_type": "code",
   "execution_count": 14,
   "metadata": {
    "colab": {
     "base_uri": "https://localhost:8080/"
    },
    "executionInfo": {
     "elapsed": 40951,
     "status": "ok",
     "timestamp": 1710872688762,
     "user": {
      "displayName": "Geeta Kiranmai",
      "userId": "15754665420331015956"
     },
     "user_tz": -330
    },
    "id": "hEGC29vC2VO6",
    "outputId": "b12595d1-555e-479f-cd16-5d4af96c805b"
   },
   "outputs": [
    {
     "name": "stdout",
     "output_type": "stream",
     "text": [
      "47/47 [==============================] - 1s 23ms/step - loss: 0.1149 - accuracy: 0.9500\n",
      "Test Loss: 0.11486930400133133\n",
      "Test Accuracy: 0.949999988079071\n"
     ]
    }
   ],
   "source": [
    "# Evaluate the model on the test data\n",
    "loss, accuracy = best_model.evaluate(x_test, y_test)\n",
    "\n",
    "print(\"Test Loss:\", loss)\n",
    "print(\"Test Accuracy:\", accuracy)\n"
   ]
  },
  {
   "cell_type": "code",
   "execution_count": 15,
   "metadata": {
    "colab": {
     "base_uri": "https://localhost:8080/",
     "height": 581
    },
    "executionInfo": {
     "elapsed": 20218,
     "status": "ok",
     "timestamp": 1710874438255,
     "user": {
      "displayName": "Geeta Kiranmai",
      "userId": "15754665420331015956"
     },
     "user_tz": -330
    },
    "id": "f6dvdWTBB0mb",
    "outputId": "64a303ce-d5fd-41eb-fc95-ce7c60d17a44"
   },
   "outputs": [
    {
     "name": "stdout",
     "output_type": "stream",
     "text": [
      "47/47 [==============================] - 1s 24ms/step\n"
     ]
    },
    {
     "data": {
      "image/png": "[encoded data removed]",
      "text/plain": [
       "<Figure size 800x600 with 2 Axes>"
      ]
     },
     "metadata": {},
     "output_type": "display_data"
    }
   ],
   "source": [
    "from sklearn.metrics import confusion_matrix\n",
    "import seaborn as sns\n",
    "import matplotlib.pyplot as plt\n",
    "\n",
    "# Get predicted probabilities for each class\n",
    "y_pred_probs = best_model.predict(x_test)\n",
    "\n",
    "# Convert predicted probabilities to class labels\n",
    "y_pred = np.argmax(y_pred_probs, axis=1)\n",
    "\n",
    "# Calculate the confusion matrix\n",
    "conf_matrix = confusion_matrix(y_test, y_pred)\n",
    "\n",
    "# Plot the confusion matrix\n",
    "plt.figure(figsize=(8, 6))\n",
    "sns.heatmap(conf_matrix, annot=True, fmt='d', cmap='Blues', xticklabels=['Class 0', 'Class 1', 'Class 2'], yticklabels=['Class 0', 'Class 1', 'Class 2'])\n",
    "plt.xlabel('Predicted labels')\n",
    "plt.ylabel('True labels')\n",
    "plt.title('Confusion Matrix')\n",
    "plt.show()\n"
   ]
  },
  {
   "cell_type": "code",
   "execution_count": 16,
   "metadata": {
    "colab": {
     "base_uri": "https://localhost:8080/"
    },
    "executionInfo": {
     "elapsed": 452,
     "status": "ok",
     "timestamp": 1710874503027,
     "user": {
      "displayName": "Geeta Kiranmai",
      "userId": "15754665420331015956"
     },
     "user_tz": -330
    },
    "id": "dVTC9t7GEOIe",
    "outputId": "4ae1734d-876a-4fd9-833a-76847132cf33"
   },
   "outputs": [
    {
     "name": "stdout",
     "output_type": "stream",
     "text": [
      "Classification Report:\n",
      "              precision    recall  f1-score   support\n",
      "\n",
      "     Class 0       0.88      0.99      0.93       500\n",
      "     Class 1       0.99      1.00      0.99       500\n",
      "     Class 2       1.00      0.87      0.93       500\n",
      "\n",
      "    accuracy                           0.95      1500\n",
      "   macro avg       0.95      0.95      0.95      1500\n",
      "weighted avg       0.95      0.95      0.95      1500\n",
      "\n"
     ]
    }
   ],
   "source": [
    "from sklearn.metrics import classification_report\n",
    "\n",
    "# Generate a classification report\n",
    "class_report = classification_report(y_test, y_pred, target_names=['Class 0', 'Class 1', 'Class 2'])\n",
    "\n",
    "# Print the classification report\n",
    "print(\"Classification Report:\")\n",
    "print(class_report)\n"
   ]
  },
  {
   "cell_type": "code",
   "execution_count": 17,
   "metadata": {
    "colab": {
     "base_uri": "https://localhost:8080/"
    },
    "executionInfo": {
     "elapsed": 564,
     "status": "ok",
     "timestamp": 1710874553274,
     "user": {
      "displayName": "Geeta Kiranmai",
      "userId": "15754665420331015956"
     },
     "user_tz": -330
    },
    "id": "xUWYnq0AEOK5",
    "outputId": "07986a79-1ae2-43cc-e820-e49805ae6347"
   },
   "outputs": [
    {
     "name": "stdout",
     "output_type": "stream",
     "text": [
      "Accuracy: 0.95\n",
      "Precision: 0.954958814965057\n",
      "Recall: 0.95\n",
      "F1 Score: 0.9498867172261239\n"
     ]
    }
   ],
   "source": [
    "from sklearn.metrics import accuracy_score, precision_score, recall_score, f1_score\n",
    "\n",
    "# Compute accuracy\n",
    "accuracy = accuracy_score(y_test, y_pred)\n",
    "\n",
    "# Compute precision\n",
    "precision = precision_score(y_test, y_pred, average='weighted')\n",
    "\n",
    "# Compute recall\n",
    "recall = recall_score(y_test, y_pred, average='weighted')\n",
    "\n",
    "# Compute F1-score\n",
    "f1 = f1_score(y_test, y_pred, average='weighted')\n",
    "\n",
    "# Print the metrics\n",
    "print(\"Accuracy:\", accuracy)\n",
    "print(\"Precision:\", precision)\n",
    "print(\"Recall:\", recall)\n",
    "print(\"F1 Score:\", f1)\n"
   ]
  },
  {
   "cell_type": "code",
   "execution_count": 18,
   "metadata": {
    "colab": {
     "base_uri": "https://localhost:8080/"
    },
    "executionInfo": {
     "elapsed": 21532,
     "status": "ok",
     "timestamp": 1710874663341,
     "user": {
      "displayName": "Geeta Kiranmai",
      "userId": "15754665420331015956"
     },
     "user_tz": -330
    },
    "id": "PpguJgP7EON3",
    "outputId": "a9073cd3-c54d-443e-90d3-9ae505d2faa2"
   },
   "outputs": [
    {
     "name": "stdout",
     "output_type": "stream",
     "text": [
      "47/47 [==============================] - 1s 24ms/step - loss: 0.1149 - accuracy: 0.9500\n",
      "Jaccard Score: 0.9062782818568114\n",
      "Error Loss: 0.11486930400133133\n"
     ]
    }
   ],
   "source": [
    "from sklearn.metrics import jaccard_score\n",
    "\n",
    "# Compute Jaccard score\n",
    "jaccard = jaccard_score(y_test, y_pred, average='weighted')\n",
    "\n",
    "# Evaluate model loss on test data\n",
    "loss = best_model.evaluate(x_test, y_test)[0]\n",
    "\n",
    "# Print Jaccard score and error loss\n",
    "print(\"Jaccard Score:\", jaccard)\n",
    "print(\"Error Loss:\", loss)\n"
   ]
  },
  {
   "cell_type": "code",
   "execution_count": 19,
   "metadata": {
    "colab": {
     "base_uri": "https://localhost:8080/"
    },
    "executionInfo": {
     "elapsed": 41797,
     "status": "ok",
     "timestamp": 1710875188162,
     "user": {
      "displayName": "Geeta Kiranmai",
      "userId": "15754665420331015956"
     },
     "user_tz": -330
    },
    "id": "ZifJ1l0-EOV7",
    "outputId": "02878a6e-6c80-4365-efef-c126a0466db6"
   },
   "outputs": [
    {
     "name": "stdout",
     "output_type": "stream",
     "text": [
      "47/47 [==============================] - 1s 23ms/step\n"
     ]
    }
   ],
   "source": [
    "# Make predictions on new data\n",
    "new_data_predictions = best_model.predict(x_test)\n"
   ]
  },
  {
   "cell_type": "code",
   "execution_count": 20,
   "metadata": {
    "id": "lL2auyHtEOYl"
   },
   "outputs": [],
   "source": [
    "# Get predicted class labels\n",
    "predicted_labels = np.argmax(new_data_predictions, axis=1)\n"
   ]
  },
  {
   "cell_type": "code",
   "execution_count": 21,
   "metadata": {
    "colab": {
     "base_uri": "https://localhost:8080/"
    },
    "executionInfo": {
     "elapsed": 650,
     "status": "ok",
     "timestamp": 1710875357160,
     "user": {
      "displayName": "Geeta Kiranmai",
      "userId": "15754665420331015956"
     },
     "user_tz": -330
    },
    "id": "T9rMm_YlEOcH",
    "outputId": "ec801d7a-da4e-4922-f5ea-c0df2fe56ceb"
   },
   "outputs": [
    {
     "name": "stdout",
     "output_type": "stream",
     "text": [
      "Predicted class names:\n",
      " ['Leukemia', 'Leukemia', 'Leukemia', 'Leukemia', 'Leukemia', 'Leukemia', 'Leukemia', 'Leukemia', 'Leukemia', 'Leukemia', 'Leukemia', 'Leukemia', 'Leukemia', 'Leukemia', 'Leukemia', 'Myeloma', 'Leukemia', 'Leukemia', 'Leukemia', 'Leukemia', 'Leukemia', 'Leukemia', 'Myeloma', 'Leukemia', 'Leukemia', 'Leukemia', 'Leukemia', 'Leukemia', 'Leukemia', 'Leukemia', 'Leukemia', 'Leukemia', 'Leukemia', 'Leukemia', 'Leukemia', 'Myeloma', 'Leukemia', 'Leukemia', 'Leukemia', 'Leukemia', 'Leukemia', 'Leukemia', 'Leukemia', 'Leukemia', 'Myeloma', 'Leukemia', 'Leukemia', 'Leukemia', 'Leukemia', 'Leukemia', 'Leukemia', 'Leukemia', 'Leukemia', 'Leukemia', 'Leukemia', 'Leukemia', 'Leukemia', 'Leukemia', 'Leukemia', 'Leukemia', 'Leukemia', 'Leukemia', 'Leukemia', 'Leukemia', 'Leukemia', 'Leukemia', 'Leukemia', 'Leukemia', 'Leukemia', 'Leukemia', 'Leukemia', 'Leukemia', 'Leukemia', 'Leukemia', 'Leukemia', 'Leukemia', 'Leukemia', 'Leukemia', 'Leukemia', 'Leukemia', 'Leukemia', 'Leukemia', 'Leukemia', 'Leukemia', 'Leukemia', 'Leukemia', 'Leukemia', 'Leukemia', 'Leukemia', 'Leukemia', 'Leukemia', 'Leukemia', 'Leukemia', 'Leukemia', 'Normal', 'Leukemia', 'Leukemia', 'Leukemia', 'Leukemia', 'Leukemia', 'Leukemia', 'Leukemia', 'Leukemia', 'Leukemia', 'Leukemia', 'Leukemia', 'Leukemia', 'Leukemia', 'Leukemia', 'Leukemia', 'Leukemia', 'Leukemia', 'Leukemia', 'Leukemia', 'Leukemia', 'Leukemia', 'Leukemia', 'Leukemia', 'Leukemia', 'Leukemia', 'Leukemia', 'Leukemia', 'Leukemia', 'Leukemia', 'Leukemia', 'Leukemia', 'Leukemia', 'Leukemia', 'Leukemia', 'Leukemia', 'Leukemia', 'Leukemia', 'Leukemia', 'Leukemia', 'Leukemia', 'Leukemia', 'Leukemia', 'Leukemia', 'Leukemia', 'Leukemia', 'Leukemia', 'Leukemia', 'Leukemia', 'Leukemia', 'Leukemia', 'Leukemia', 'Leukemia', 'Leukemia', 'Leukemia', 'Leukemia', 'Leukemia', 'Leukemia', 'Leukemia', 'Leukemia', 'Leukemia', 'Leukemia', 'Leukemia', 'Leukemia', 'Leukemia', 'Leukemia', 'Leukemia', 'Leukemia', 'Leukemia', 'Leukemia', 'Leukemia', 'Leukemia', 'Leukemia', 'Leukemia', 'Leukemia', 'Leukemia', 'Leukemia', 'Leukemia', 'Leukemia', 'Leukemia', 'Leukemia', 'Leukemia', 'Leukemia', 'Leukemia', 'Leukemia', 'Leukemia', 'Leukemia', 'Leukemia', 'Leukemia', 'Leukemia', 'Leukemia', 'Leukemia', 'Leukemia', 'Leukemia', 'Leukemia', 'Leukemia', 'Leukemia', 'Leukemia', 'Leukemia', 'Leukemia', 'Leukemia', 'Leukemia', 'Leukemia', 'Leukemia', 'Leukemia', 'Leukemia', 'Leukemia', 'Leukemia', 'Leukemia', 'Leukemia', 'Leukemia', 'Leukemia', 'Leukemia', 'Leukemia', 'Leukemia', 'Leukemia', 'Leukemia', 'Leukemia', 'Leukemia', 'Leukemia', 'Leukemia', 'Leukemia', 'Leukemia', 'Leukemia', 'Leukemia', 'Leukemia', 'Leukemia', 'Leukemia', 'Leukemia', 'Leukemia', 'Leukemia', 'Leukemia', 'Leukemia', 'Leukemia', 'Leukemia', 'Leukemia', 'Leukemia', 'Leukemia', 'Leukemia', 'Leukemia', 'Leukemia', 'Leukemia', 'Leukemia', 'Leukemia', 'Leukemia', 'Leukemia', 'Leukemia', 'Leukemia', 'Leukemia', 'Leukemia', 'Leukemia', 'Leukemia', 'Leukemia', 'Leukemia', 'Leukemia', 'Leukemia', 'Leukemia', 'Leukemia', 'Leukemia', 'Leukemia', 'Leukemia', 'Leukemia', 'Leukemia', 'Leukemia', 'Leukemia', 'Leukemia', 'Leukemia', 'Leukemia', 'Leukemia', 'Leukemia', 'Leukemia', 'Leukemia', 'Leukemia', 'Leukemia', 'Leukemia', 'Leukemia', 'Leukemia', 'Leukemia', 'Leukemia', 'Leukemia', 'Leukemia', 'Leukemia', 'Leukemia', 'Leukemia', 'Leukemia', 'Leukemia', 'Leukemia', 'Leukemia', 'Leukemia', 'Leukemia', 'Leukemia', 'Leukemia', 'Leukemia', 'Leukemia', 'Leukemia', 'Leukemia', 'Leukemia', 'Leukemia', 'Leukemia', 'Leukemia', 'Leukemia', 'Leukemia', 'Leukemia', 'Leukemia', 'Leukemia', 'Leukemia', 'Leukemia', 'Leukemia', 'Leukemia', 'Leukemia', 'Leukemia', 'Leukemia', 'Leukemia', 'Leukemia', 'Leukemia', 'Leukemia', 'Leukemia', 'Leukemia', 'Leukemia', 'Leukemia', 'Leukemia', 'Leukemia', 'Leukemia', 'Leukemia', 'Leukemia', 'Leukemia', 'Leukemia', 'Leukemia', 'Leukemia', 'Leukemia', 'Leukemia', 'Leukemia', 'Leukemia', 'Leukemia', 'Leukemia', 'Leukemia', 'Leukemia', 'Leukemia', 'Leukemia', 'Leukemia', 'Leukemia', 'Leukemia', 'Leukemia', 'Leukemia', 'Leukemia', 'Leukemia', 'Leukemia', 'Leukemia', 'Leukemia', 'Leukemia', 'Leukemia', 'Leukemia', 'Leukemia', 'Normal', 'Leukemia', 'Leukemia', 'Leukemia', 'Leukemia', 'Leukemia', 'Leukemia', 'Leukemia', 'Leukemia', 'Leukemia', 'Leukemia', 'Leukemia', 'Leukemia', 'Leukemia', 'Leukemia', 'Leukemia', 'Leukemia', 'Leukemia', 'Leukemia', 'Leukemia', 'Leukemia', 'Leukemia', 'Leukemia', 'Leukemia', 'Leukemia', 'Leukemia', 'Leukemia', 'Leukemia', 'Leukemia', 'Leukemia', 'Leukemia', 'Leukemia', 'Leukemia', 'Leukemia', 'Leukemia', 'Leukemia', 'Leukemia', 'Leukemia', 'Leukemia', 'Leukemia', 'Leukemia', 'Leukemia', 'Leukemia', 'Leukemia', 'Leukemia', 'Leukemia', 'Leukemia', 'Leukemia', 'Leukemia', 'Leukemia', 'Leukemia', 'Leukemia', 'Leukemia', 'Leukemia', 'Leukemia', 'Leukemia', 'Leukemia', 'Leukemia', 'Leukemia', 'Leukemia', 'Leukemia', 'Leukemia', 'Leukemia', 'Leukemia', 'Leukemia', 'Leukemia', 'Leukemia', 'Leukemia', 'Leukemia', 'Leukemia', 'Leukemia', 'Leukemia', 'Leukemia', 'Leukemia', 'Leukemia', 'Leukemia', 'Leukemia', 'Leukemia', 'Leukemia', 'Leukemia', 'Leukemia', 'Leukemia', 'Leukemia', 'Leukemia', 'Leukemia', 'Leukemia', 'Leukemia', 'Leukemia', 'Leukemia', 'Leukemia', 'Leukemia', 'Leukemia', 'Leukemia', 'Leukemia', 'Leukemia', 'Leukemia', 'Leukemia', 'Leukemia', 'Leukemia', 'Leukemia', 'Leukemia', 'Leukemia', 'Leukemia', 'Leukemia', 'Leukemia', 'Leukemia', 'Leukemia', 'Leukemia', 'Leukemia', 'Leukemia', 'Leukemia', 'Leukemia', 'Leukemia', 'Leukemia', 'Leukemia', 'Leukemia', 'Leukemia', 'Leukemia', 'Leukemia', 'Leukemia', 'Leukemia', 'Leukemia', 'Leukemia', 'Leukemia', 'Leukemia', 'Leukemia', 'Leukemia', 'Leukemia', 'Leukemia', 'Leukemia', 'Leukemia', 'Leukemia', 'Leukemia', 'Leukemia', 'Leukemia', 'Leukemia', 'Leukemia', 'Leukemia', 'Leukemia', 'Leukemia', 'Leukemia', 'Leukemia', 'Leukemia', 'Leukemia', 'Leukemia', 'Leukemia', 'Leukemia', 'Leukemia', 'Leukemia', 'Leukemia', 'Leukemia', 'Leukemia', 'Leukemia', 'Myeloma', 'Myeloma', 'Myeloma', 'Myeloma', 'Myeloma', 'Myeloma', 'Myeloma', 'Myeloma', 'Myeloma', 'Myeloma', 'Myeloma', 'Myeloma', 'Myeloma', 'Myeloma', 'Myeloma', 'Myeloma', 'Myeloma', 'Myeloma', 'Myeloma', 'Myeloma', 'Myeloma', 'Myeloma', 'Myeloma', 'Myeloma', 'Myeloma', 'Myeloma', 'Myeloma', 'Myeloma', 'Myeloma', 'Myeloma', 'Myeloma', 'Myeloma', 'Myeloma', 'Myeloma', 'Myeloma', 'Myeloma', 'Myeloma', 'Myeloma', 'Myeloma', 'Myeloma', 'Myeloma', 'Myeloma', 'Myeloma', 'Myeloma', 'Myeloma', 'Myeloma', 'Myeloma', 'Myeloma', 'Myeloma', 'Myeloma', 'Myeloma', 'Myeloma', 'Myeloma', 'Myeloma', 'Myeloma', 'Myeloma', 'Myeloma', 'Myeloma', 'Myeloma', 'Myeloma', 'Myeloma', 'Myeloma', 'Myeloma', 'Myeloma', 'Myeloma', 'Myeloma', 'Myeloma', 'Myeloma', 'Myeloma', 'Myeloma', 'Myeloma', 'Myeloma', 'Myeloma', 'Myeloma', 'Myeloma', 'Myeloma', 'Myeloma', 'Myeloma', 'Myeloma', 'Myeloma', 'Myeloma', 'Myeloma', 'Myeloma', 'Myeloma', 'Myeloma', 'Myeloma', 'Myeloma', 'Myeloma', 'Myeloma', 'Myeloma', 'Myeloma', 'Myeloma', 'Myeloma', 'Myeloma', 'Myeloma', 'Myeloma', 'Myeloma', 'Myeloma', 'Myeloma', 'Myeloma', 'Myeloma', 'Myeloma', 'Myeloma', 'Myeloma', 'Myeloma', 'Myeloma', 'Myeloma', 'Myeloma', 'Myeloma', 'Myeloma', 'Myeloma', 'Myeloma', 'Myeloma', 'Myeloma', 'Myeloma', 'Myeloma', 'Myeloma', 'Myeloma', 'Myeloma', 'Myeloma', 'Myeloma', 'Myeloma', 'Myeloma', 'Myeloma', 'Myeloma', 'Myeloma', 'Myeloma', 'Myeloma', 'Myeloma', 'Myeloma', 'Myeloma', 'Myeloma', 'Myeloma', 'Myeloma', 'Myeloma', 'Myeloma', 'Myeloma', 'Myeloma', 'Myeloma', 'Myeloma', 'Myeloma', 'Myeloma', 'Myeloma', 'Myeloma', 'Myeloma', 'Myeloma', 'Myeloma', 'Myeloma', 'Myeloma', 'Myeloma', 'Myeloma', 'Myeloma', 'Myeloma', 'Myeloma', 'Myeloma', 'Myeloma', 'Myeloma', 'Myeloma', 'Myeloma', 'Myeloma', 'Myeloma', 'Myeloma', 'Myeloma', 'Myeloma', 'Myeloma', 'Myeloma', 'Myeloma', 'Myeloma', 'Myeloma', 'Myeloma', 'Myeloma', 'Myeloma', 'Myeloma', 'Myeloma', 'Myeloma', 'Myeloma', 'Myeloma', 'Myeloma', 'Myeloma', 'Myeloma', 'Myeloma', 'Myeloma', 'Myeloma', 'Myeloma', 'Myeloma', 'Myeloma', 'Myeloma', 'Myeloma', 'Myeloma', 'Myeloma', 'Myeloma', 'Myeloma', 'Myeloma', 'Myeloma', 'Myeloma', 'Myeloma', 'Myeloma', 'Myeloma', 'Myeloma', 'Myeloma', 'Myeloma', 'Myeloma', 'Myeloma', 'Myeloma', 'Myeloma', 'Myeloma', 'Myeloma', 'Myeloma', 'Myeloma', 'Myeloma', 'Myeloma', 'Myeloma', 'Myeloma', 'Myeloma', 'Myeloma', 'Myeloma', 'Myeloma', 'Myeloma', 'Myeloma', 'Myeloma', 'Myeloma', 'Myeloma', 'Myeloma', 'Myeloma', 'Myeloma', 'Myeloma', 'Myeloma', 'Myeloma', 'Myeloma', 'Myeloma', 'Myeloma', 'Myeloma', 'Myeloma', 'Myeloma', 'Myeloma', 'Myeloma', 'Myeloma', 'Myeloma', 'Myeloma', 'Myeloma', 'Myeloma', 'Myeloma', 'Myeloma', 'Myeloma', 'Myeloma', 'Myeloma', 'Myeloma', 'Myeloma', 'Myeloma', 'Myeloma', 'Myeloma', 'Myeloma', 'Myeloma', 'Myeloma', 'Myeloma', 'Myeloma', 'Myeloma', 'Myeloma', 'Myeloma', 'Myeloma', 'Myeloma', 'Myeloma', 'Myeloma', 'Myeloma', 'Myeloma', 'Myeloma', 'Myeloma', 'Myeloma', 'Myeloma', 'Myeloma', 'Myeloma', 'Myeloma', 'Myeloma', 'Myeloma', 'Myeloma', 'Myeloma', 'Myeloma', 'Myeloma', 'Myeloma', 'Myeloma', 'Myeloma', 'Myeloma', 'Myeloma', 'Myeloma', 'Myeloma', 'Myeloma', 'Myeloma', 'Myeloma', 'Myeloma', 'Myeloma', 'Myeloma', 'Myeloma', 'Myeloma', 'Myeloma', 'Myeloma', 'Myeloma', 'Myeloma', 'Myeloma', 'Myeloma', 'Myeloma', 'Myeloma', 'Myeloma', 'Myeloma', 'Myeloma', 'Myeloma', 'Myeloma', 'Myeloma', 'Myeloma', 'Myeloma', 'Myeloma', 'Myeloma', 'Myeloma', 'Myeloma', 'Myeloma', 'Myeloma', 'Myeloma', 'Myeloma', 'Myeloma', 'Myeloma', 'Myeloma', 'Myeloma', 'Myeloma', 'Myeloma', 'Myeloma', 'Myeloma', 'Myeloma', 'Myeloma', 'Myeloma', 'Myeloma', 'Myeloma', 'Myeloma', 'Myeloma', 'Myeloma', 'Myeloma', 'Myeloma', 'Myeloma', 'Myeloma', 'Myeloma', 'Myeloma', 'Myeloma', 'Myeloma', 'Myeloma', 'Myeloma', 'Myeloma', 'Myeloma', 'Myeloma', 'Myeloma', 'Myeloma', 'Myeloma', 'Myeloma', 'Myeloma', 'Myeloma', 'Myeloma', 'Myeloma', 'Myeloma', 'Myeloma', 'Myeloma', 'Myeloma', 'Myeloma', 'Myeloma', 'Myeloma', 'Myeloma', 'Myeloma', 'Myeloma', 'Myeloma', 'Myeloma', 'Myeloma', 'Leukemia', 'Myeloma', 'Myeloma', 'Myeloma', 'Myeloma', 'Myeloma', 'Myeloma', 'Myeloma', 'Myeloma', 'Myeloma', 'Myeloma', 'Myeloma', 'Myeloma', 'Myeloma', 'Myeloma', 'Myeloma', 'Myeloma', 'Myeloma', 'Myeloma', 'Myeloma', 'Myeloma', 'Myeloma', 'Myeloma', 'Myeloma', 'Myeloma', 'Myeloma', 'Myeloma', 'Myeloma', 'Myeloma', 'Myeloma', 'Myeloma', 'Myeloma', 'Myeloma', 'Myeloma', 'Myeloma', 'Myeloma', 'Myeloma', 'Myeloma', 'Myeloma', 'Myeloma', 'Myeloma', 'Myeloma', 'Myeloma', 'Myeloma', 'Myeloma', 'Myeloma', 'Myeloma', 'Myeloma', 'Myeloma', 'Myeloma', 'Myeloma', 'Myeloma', 'Myeloma', 'Myeloma', 'Myeloma', 'Myeloma', 'Myeloma', 'Myeloma', 'Myeloma', 'Myeloma', 'Myeloma', 'Myeloma', 'Myeloma', 'Myeloma', 'Myeloma', 'Myeloma', 'Myeloma', 'Myeloma', 'Myeloma', 'Myeloma', 'Myeloma', 'Leukemia', 'Myeloma', 'Myeloma', 'Myeloma', 'Myeloma', 'Myeloma', 'Myeloma', 'Myeloma', 'Myeloma', 'Myeloma', 'Myeloma', 'Myeloma', 'Myeloma', 'Myeloma', 'Myeloma', 'Myeloma', 'Myeloma', 'Myeloma', 'Myeloma', 'Myeloma', 'Myeloma', 'Myeloma', 'Myeloma', 'Myeloma', 'Myeloma', 'Myeloma', 'Myeloma', 'Myeloma', 'Myeloma', 'Myeloma', 'Myeloma', 'Myeloma', 'Myeloma', 'Myeloma', 'Myeloma', 'Myeloma', 'Myeloma', 'Myeloma', 'Myeloma', 'Myeloma', 'Myeloma', 'Myeloma', 'Myeloma', 'Myeloma', 'Myeloma', 'Myeloma', 'Myeloma', 'Myeloma', 'Myeloma', 'Myeloma', 'Myeloma', 'Myeloma', 'Myeloma', 'Myeloma', 'Myeloma', 'Myeloma', 'Myeloma', 'Myeloma', 'Myeloma', 'Myeloma', 'Myeloma', 'Myeloma', 'Normal', 'Normal', 'Normal', 'Normal', 'Leukemia', 'Normal', 'Normal', 'Normal', 'Leukemia', 'Normal', 'Leukemia', 'Leukemia', 'Normal', 'Normal', 'Normal', 'Normal', 'Normal', 'Normal', 'Normal', 'Leukemia', 'Normal', 'Normal', 'Normal', 'Normal', 'Normal', 'Normal', 'Leukemia', 'Normal', 'Normal', 'Normal', 'Normal', 'Normal', 'Leukemia', 'Normal', 'Normal', 'Normal', 'Normal', 'Leukemia', 'Normal', 'Normal', 'Normal', 'Leukemia', 'Normal', 'Normal', 'Normal', 'Leukemia', 'Normal', 'Normal', 'Normal', 'Leukemia', 'Normal', 'Normal', 'Normal', 'Normal', 'Normal', 'Normal', 'Leukemia', 'Normal', 'Normal', 'Leukemia', 'Normal', 'Normal', 'Normal', 'Leukemia', 'Normal', 'Normal', 'Normal', 'Normal', 'Normal', 'Normal', 'Normal', 'Normal', 'Normal', 'Leukemia', 'Normal', 'Normal', 'Normal', 'Normal', 'Normal', 'Normal', 'Normal', 'Normal', 'Normal', 'Normal', 'Normal', 'Normal', 'Normal', 'Normal', 'Normal', 'Normal', 'Normal', 'Normal', 'Normal', 'Leukemia', 'Leukemia', 'Normal', 'Normal', 'Normal', 'Normal', 'Normal', 'Normal', 'Normal', 'Normal', 'Normal', 'Normal', 'Normal', 'Normal', 'Normal', 'Normal', 'Normal', 'Normal', 'Normal', 'Normal', 'Normal', 'Leukemia', 'Normal', 'Normal', 'Normal', 'Normal', 'Normal', 'Normal', 'Normal', 'Normal', 'Normal', 'Normal', 'Normal', 'Normal', 'Normal', 'Normal', 'Leukemia', 'Normal', 'Normal', 'Normal', 'Normal', 'Normal', 'Normal', 'Normal', 'Normal', 'Normal', 'Normal', 'Normal', 'Normal', 'Normal', 'Leukemia', 'Normal', 'Normal', 'Normal', 'Normal', 'Normal', 'Normal', 'Normal', 'Leukemia', 'Normal', 'Normal', 'Normal', 'Normal', 'Normal', 'Leukemia', 'Normal', 'Normal', 'Normal', 'Normal', 'Normal', 'Normal', 'Leukemia', 'Leukemia', 'Normal', 'Normal', 'Normal', 'Leukemia', 'Normal', 'Normal', 'Normal', 'Normal', 'Normal', 'Normal', 'Normal', 'Normal', 'Normal', 'Normal', 'Normal', 'Normal', 'Normal', 'Normal', 'Normal', 'Normal', 'Leukemia', 'Leukemia', 'Leukemia', 'Normal', 'Normal', 'Normal', 'Normal', 'Normal', 'Normal', 'Normal', 'Normal', 'Normal', 'Normal', 'Normal', 'Leukemia', 'Normal', 'Leukemia', 'Normal', 'Leukemia', 'Normal', 'Normal', 'Normal', 'Normal', 'Normal', 'Normal', 'Normal', 'Normal', 'Normal', 'Normal', 'Normal', 'Normal', 'Normal', 'Normal', 'Normal', 'Normal', 'Normal', 'Normal', 'Normal', 'Normal', 'Normal', 'Leukemia', 'Normal', 'Normal', 'Normal', 'Normal', 'Normal', 'Normal', 'Normal', 'Normal', 'Normal', 'Normal', 'Normal', 'Normal', 'Normal', 'Normal', 'Leukemia', 'Normal', 'Normal', 'Normal', 'Normal', 'Normal', 'Normal', 'Normal', 'Normal', 'Normal', 'Normal', 'Normal', 'Normal', 'Normal', 'Normal', 'Normal', 'Normal', 'Leukemia', 'Normal', 'Normal', 'Leukemia', 'Normal', 'Leukemia', 'Leukemia', 'Normal', 'Leukemia', 'Leukemia', 'Normal', 'Normal', 'Normal', 'Normal', 'Normal', 'Normal', 'Normal', 'Leukemia', 'Normal', 'Leukemia', 'Normal', 'Normal', 'Normal', 'Normal', 'Normal', 'Normal', 'Normal', 'Normal', 'Normal', 'Leukemia', 'Normal', 'Normal', 'Normal', 'Normal', 'Leukemia', 'Normal', 'Normal', 'Normal', 'Normal', 'Normal', 'Leukemia', 'Normal', 'Leukemia', 'Normal', 'Normal', 'Normal', 'Normal', 'Normal', 'Normal', 'Normal', 'Normal', 'Normal', 'Normal', 'Normal', 'Normal', 'Normal', 'Normal', 'Normal', 'Normal', 'Normal', 'Normal', 'Normal', 'Normal', 'Normal', 'Normal', 'Leukemia', 'Normal', 'Normal', 'Normal', 'Normal', 'Normal', 'Normal', 'Normal', 'Normal', 'Normal', 'Leukemia', 'Normal', 'Normal', 'Normal', 'Normal', 'Normal', 'Leukemia', 'Normal', 'Normal', 'Normal', 'Normal', 'Normal', 'Normal', 'Normal', 'Normal', 'Normal', 'Normal', 'Normal', 'Normal', 'Normal', 'Normal', 'Normal', 'Normal', 'Normal', 'Leukemia', 'Normal', 'Normal', 'Normal', 'Normal', 'Normal', 'Leukemia', 'Normal', 'Normal', 'Normal', 'Normal', 'Normal', 'Normal', 'Leukemia', 'Normal', 'Normal', 'Normal', 'Normal', 'Normal', 'Leukemia', 'Normal', 'Normal', 'Normal', 'Normal', 'Normal', 'Leukemia', 'Normal', 'Normal', 'Leukemia', 'Normal', 'Normal', 'Normal', 'Normal', 'Leukemia', 'Normal', 'Normal', 'Normal', 'Leukemia', 'Leukemia', 'Normal', 'Normal', 'Normal', 'Normal', 'Normal', 'Normal', 'Normal', 'Normal', 'Normal', 'Normal', 'Normal', 'Normal', 'Normal', 'Normal', 'Normal', 'Normal', 'Leukemia', 'Normal', 'Normal', 'Normal', 'Normal', 'Normal', 'Normal', 'Normal', 'Normal', 'Leukemia', 'Normal', 'Normal', 'Normal', 'Normal', 'Normal', 'Normal', 'Normal', 'Normal', 'Normal', 'Normal', 'Normal', 'Normal', 'Normal', 'Leukemia', 'Normal', 'Leukemia', 'Normal', 'Leukemia', 'Normal', 'Leukemia', 'Normal', 'Normal', 'Normal', 'Normal', 'Normal', 'Normal', 'Normal', 'Leukemia', 'Normal', 'Normal', 'Normal', 'Normal', 'Leukemia', 'Leukemia', 'Normal', 'Leukemia', 'Normal', 'Normal', 'Normal', 'Normal', 'Normal', 'Normal', 'Normal', 'Normal', 'Normal', 'Normal', 'Normal', 'Normal', 'Normal', 'Normal', 'Normal', 'Normal', 'Normal', 'Normal', 'Normal', 'Normal', 'Normal', 'Normal', 'Normal', 'Normal', 'Normal', 'Normal', 'Normal', 'Normal', 'Normal', 'Normal', 'Normal', 'Normal', 'Normal', 'Normal', 'Normal', 'Normal', 'Normal', 'Normal', 'Normal', 'Normal', 'Normal', 'Normal']\n"
     ]
    }
   ],
   "source": [
    "# Define class names (example)\n",
    "class_names = [\"Leukemia\", \"Myeloma\", \"Normal\"]  # Replace with your actual class names\n",
    "\n",
    "# Map predicted labels to class names\n",
    "predicted_class_names = [class_names[label] for label in predicted_labels]\n",
    "\n",
    "# Print predicted class names\n",
    "print(\"Predicted class names:\\n\", predicted_class_names)\n"
   ]
  },
  {
   "cell_type": "code",
   "execution_count": 22,
   "metadata": {
    "colab": {
     "base_uri": "https://localhost:8080/"
    },
    "executionInfo": {
     "elapsed": 468,
     "status": "ok",
     "timestamp": 1710875334302,
     "user": {
      "displayName": "Geeta Kiranmai",
      "userId": "15754665420331015956"
     },
     "user_tz": -330
    },
    "id": "f8M0AJ3DB0p5",
    "outputId": "bcafe514-9708-49f2-dba5-343bcf4a625c"
   },
   "outputs": [
    {
     "name": "stdout",
     "output_type": "stream",
     "text": [
      "[0 0 0 ... 2 2 2]\n"
     ]
    }
   ],
   "source": [
    "print(y_test)"
   ]
  },
  {
   "cell_type": "code",
   "execution_count": 23,
   "metadata": {
    "colab": {
     "base_uri": "https://localhost:8080/",
     "height": 484
    },
    "executionInfo": {
     "elapsed": 1091,
     "status": "ok",
     "timestamp": 1710875699643,
     "user": {
      "displayName": "Geeta Kiranmai",
      "userId": "15754665420331015956"
     },
     "user_tz": -330
    },
    "id": "tKXEbHClH4az",
    "outputId": "d59a63ad-1aa6-436b-b6de-7249ab9e7d55"
   },
   "outputs": [
    {
     "name": "stdout",
     "output_type": "stream",
     "text": [
      "1/1 [==============================] - 0s 17ms/step\n",
      "Actual Label: 2\n",
      "Predicted Label: 2\n"
     ]
    },
    {
     "data": {
      "image/png": "[encoded data removed]",
      "text/plain": [
       "<Figure size 640x480 with 1 Axes>"
      ]
     },
     "metadata": {},
     "output_type": "display_data"
    }
   ],
   "source": [
    "# Select an image from the dataset (example)\n",
    "image_index = np.random.randint(0, x_test.shape[0]) # Change this to select a different image\n",
    "selected_image = x_test[image_index]  # Assuming x_test contains the images\n",
    "plt.imshow(selected_image)\n",
    "# Use the model to predict the class of the selected image\n",
    "predicted_probabilities = best_model.predict(np.expand_dims(selected_image, axis=0))\n",
    "predicted_label = np.argmax(predicted_probabilities)\n",
    "\n",
    "# Get the actual label of the selected image\n",
    "actual_label = y_test[image_index]  # Assuming y_test contains the actual labels\n",
    "\n",
    "# Print the actual label and predicted label\n",
    "print(\"Actual Label:\", actual_label)\n",
    "print(\"Predicted Label:\", predicted_label)\n"
   ]
  },
  {
   "cell_type": "code",
   "execution_count": 24,
   "metadata": {},
   "outputs": [],
   "source": [
    "best_model.save('model.h5')"
   ]
  }
 ],
 "metadata": {
  "colab": {
   "provenance": [
    {
     "file_id": "1Vj3z4xjBIlSKOdU-_B58rqyY37WI9IKz",
     "timestamp": 1712751875623
    },
    {
     "file_id": "1qfsjJxOpPUjPb8saGq36ixcdfTsA8gcc",
     "timestamp": 1710851025828
    },
    {
     "file_id": "1sfATrEHRwsBuatHDlE4jOzjzor2_X-F3",
     "timestamp": 1710829166667
    },
    {
     "file_id": "1OiG2ptdqWcf3GoIe7HUnrMwR-V5tztX9",
     "timestamp": 1710751012318
    },
    {
     "file_id": "1E4UpAhu57PIrbluNRDwhHbZXFCvRNoB6",
     "timestamp": 1710746417681
    },
    {
     "file_id": "1-MCBlpZE1Bj8zXIuo1QdCKxv70k3GOQy",
     "timestamp": 1710740940317
    },
    {
     "file_id": "1DT-nHaRZ22akIuxBW1R4Gf0grSr_j9im",
     "timestamp": 1710576529864
    }
   ]
  },
  "kernelspec": {
   "display_name": "Python 3 (ipykernel)",
   "language": "python",
   "name": "python3"
  },
  "language_info": {
   "codemirror_mode": {
    "name": "ipython",
    "version": 3
   },
   "file_extension": ".py",
   "mimetype": "text/x-python",
   "name": "python",
   "nbconvert_exporter": "python",
   "pygments_lexer": "ipython3",
   "version": "3.11.5"
  }
 },
 "nbformat": 4,
 "nbformat_minor": 1
}
