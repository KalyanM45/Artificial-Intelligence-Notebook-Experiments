{
 "cells": [
  {
   "cell_type": "markdown",
   "id": "bc1bedf4",
   "metadata": {},
   "source": [
    "# 1. Importing Required Libraries"
   ]
  },
  {
   "cell_type": "code",
   "execution_count": 29,
   "id": "8e9e2d3a",
   "metadata": {},
   "outputs": [],
   "source": [
    "import warnings\n",
    "warnings.simplefilter('ignore')\n",
    "\n",
    "import nltk\n",
    "import string\n",
    "import pickle\n",
    "import numpy as np\n",
    "import pandas as pd\n",
    "import seaborn as sns\n",
    "import matplotlib.pyplot as plt\n",
    "\n",
    "from nltk.corpus import stopwords\n",
    "from nltk.stem.porter import PorterStemmer\n",
    "from sklearn.preprocessing import LabelEncoder\n",
    "from sklearn.model_selection import train_test_split, GridSearchCV\n",
    "from sklearn.feature_extraction.text import TfidfVectorizer\n",
    "from sklearn.metrics import accuracy_score, precision_score, recall_score, f1_score, roc_curve, roc_auc_score, confusion_matrix\n",
    "\n",
    "from sklearn.svm import SVC\n",
    "from xgboost import XGBClassifier\n",
    "from sklearn.naive_bayes import GaussianNB\n",
    "from sklearn.tree import DecisionTreeClassifier\n",
    "from sklearn.linear_model import LogisticRegression\n",
    "from sklearn.ensemble import GradientBoostingClassifier, RandomForestClassifier, ExtraTreesClassifier"
   ]
  },
  {
   "cell_type": "code",
   "execution_count": 2,
   "id": "a5e5c351",
   "metadata": {},
   "outputs": [
    {
     "name": "stderr",
     "output_type": "stream",
     "text": [
      "[nltk_data] Downloading package stopwords to\n",
      "[nltk_data]     C:\\Users\\Kalyan\\AppData\\Roaming\\nltk_data...\n",
      "[nltk_data]   Package stopwords is already up-to-date!\n"
     ]
    }
   ],
   "source": [
    "nltk.download('stopwords')\n",
    "stop_words = set(stopwords.words('english'))\n",
    "punctuation = set(string.punctuation)"
   ]
  },
  {
   "cell_type": "markdown",
   "id": "775ef551",
   "metadata": {},
   "source": [
    "# 2. Data Ingestion"
   ]
  },
  {
   "cell_type": "code",
   "execution_count": 3,
   "id": "d660cd48",
   "metadata": {},
   "outputs": [],
   "source": [
    "df = pd.read_csv('Artifacts/spam.csv', encoding='latin1')"
   ]
  },
  {
   "cell_type": "markdown",
   "id": "a02e0d5c",
   "metadata": {},
   "source": [
    "# 3. Exploratory Data Analysis"
   ]
  },
  {
   "cell_type": "code",
   "execution_count": 4,
   "id": "c8e3e9cf",
   "metadata": {},
   "outputs": [
    {
     "data": {
      "text/html": [
       "<div>\n",
       "<style scoped>\n",
       "    .dataframe tbody tr th:only-of-type {\n",
       "        vertical-align: middle;\n",
       "    }\n",
       "\n",
       "    .dataframe tbody tr th {\n",
       "        vertical-align: top;\n",
       "    }\n",
       "\n",
       "    .dataframe thead th {\n",
       "        text-align: right;\n",
       "    }\n",
       "</style>\n",
       "<table border=\"1\" class=\"dataframe\">\n",
       "  <thead>\n",
       "    <tr style=\"text-align: right;\">\n",
       "      <th></th>\n",
       "      <th>v1</th>\n",
       "      <th>v2</th>\n",
       "      <th>Unnamed: 2</th>\n",
       "      <th>Unnamed: 3</th>\n",
       "      <th>Unnamed: 4</th>\n",
       "    </tr>\n",
       "  </thead>\n",
       "  <tbody>\n",
       "    <tr>\n",
       "      <th>0</th>\n",
       "      <td>ham</td>\n",
       "      <td>Go until jurong point, crazy.. Available only ...</td>\n",
       "      <td>NaN</td>\n",
       "      <td>NaN</td>\n",
       "      <td>NaN</td>\n",
       "    </tr>\n",
       "    <tr>\n",
       "      <th>1</th>\n",
       "      <td>ham</td>\n",
       "      <td>Ok lar... Joking wif u oni...</td>\n",
       "      <td>NaN</td>\n",
       "      <td>NaN</td>\n",
       "      <td>NaN</td>\n",
       "    </tr>\n",
       "    <tr>\n",
       "      <th>2</th>\n",
       "      <td>spam</td>\n",
       "      <td>Free entry in 2 a wkly comp to win FA Cup fina...</td>\n",
       "      <td>NaN</td>\n",
       "      <td>NaN</td>\n",
       "      <td>NaN</td>\n",
       "    </tr>\n",
       "    <tr>\n",
       "      <th>3</th>\n",
       "      <td>ham</td>\n",
       "      <td>U dun say so early hor... U c already then say...</td>\n",
       "      <td>NaN</td>\n",
       "      <td>NaN</td>\n",
       "      <td>NaN</td>\n",
       "    </tr>\n",
       "    <tr>\n",
       "      <th>4</th>\n",
       "      <td>ham</td>\n",
       "      <td>Nah I don't think he goes to usf, he lives aro...</td>\n",
       "      <td>NaN</td>\n",
       "      <td>NaN</td>\n",
       "      <td>NaN</td>\n",
       "    </tr>\n",
       "    <tr>\n",
       "      <th>...</th>\n",
       "      <td>...</td>\n",
       "      <td>...</td>\n",
       "      <td>...</td>\n",
       "      <td>...</td>\n",
       "      <td>...</td>\n",
       "    </tr>\n",
       "    <tr>\n",
       "      <th>5567</th>\n",
       "      <td>spam</td>\n",
       "      <td>This is the 2nd time we have tried 2 contact u...</td>\n",
       "      <td>NaN</td>\n",
       "      <td>NaN</td>\n",
       "      <td>NaN</td>\n",
       "    </tr>\n",
       "    <tr>\n",
       "      <th>5568</th>\n",
       "      <td>ham</td>\n",
       "      <td>Will Ì_ b going to esplanade fr home?</td>\n",
       "      <td>NaN</td>\n",
       "      <td>NaN</td>\n",
       "      <td>NaN</td>\n",
       "    </tr>\n",
       "    <tr>\n",
       "      <th>5569</th>\n",
       "      <td>ham</td>\n",
       "      <td>Pity, * was in mood for that. So...any other s...</td>\n",
       "      <td>NaN</td>\n",
       "      <td>NaN</td>\n",
       "      <td>NaN</td>\n",
       "    </tr>\n",
       "    <tr>\n",
       "      <th>5570</th>\n",
       "      <td>ham</td>\n",
       "      <td>The guy did some bitching but I acted like i'd...</td>\n",
       "      <td>NaN</td>\n",
       "      <td>NaN</td>\n",
       "      <td>NaN</td>\n",
       "    </tr>\n",
       "    <tr>\n",
       "      <th>5571</th>\n",
       "      <td>ham</td>\n",
       "      <td>Rofl. Its true to its name</td>\n",
       "      <td>NaN</td>\n",
       "      <td>NaN</td>\n",
       "      <td>NaN</td>\n",
       "    </tr>\n",
       "  </tbody>\n",
       "</table>\n",
       "<p>5572 rows × 5 columns</p>\n",
       "</div>"
      ],
      "text/plain": [
       "        v1                                                 v2 Unnamed: 2  \\\n",
       "0      ham  Go until jurong point, crazy.. Available only ...        NaN   \n",
       "1      ham                      Ok lar... Joking wif u oni...        NaN   \n",
       "2     spam  Free entry in 2 a wkly comp to win FA Cup fina...        NaN   \n",
       "3      ham  U dun say so early hor... U c already then say...        NaN   \n",
       "4      ham  Nah I don't think he goes to usf, he lives aro...        NaN   \n",
       "...    ...                                                ...        ...   \n",
       "5567  spam  This is the 2nd time we have tried 2 contact u...        NaN   \n",
       "5568   ham              Will Ì_ b going to esplanade fr home?        NaN   \n",
       "5569   ham  Pity, * was in mood for that. So...any other s...        NaN   \n",
       "5570   ham  The guy did some bitching but I acted like i'd...        NaN   \n",
       "5571   ham                         Rofl. Its true to its name        NaN   \n",
       "\n",
       "     Unnamed: 3 Unnamed: 4  \n",
       "0           NaN        NaN  \n",
       "1           NaN        NaN  \n",
       "2           NaN        NaN  \n",
       "3           NaN        NaN  \n",
       "4           NaN        NaN  \n",
       "...         ...        ...  \n",
       "5567        NaN        NaN  \n",
       "5568        NaN        NaN  \n",
       "5569        NaN        NaN  \n",
       "5570        NaN        NaN  \n",
       "5571        NaN        NaN  \n",
       "\n",
       "[5572 rows x 5 columns]"
      ]
     },
     "execution_count": 4,
     "metadata": {},
     "output_type": "execute_result"
    }
   ],
   "source": [
    "df"
   ]
  },
  {
   "cell_type": "code",
   "execution_count": 5,
   "id": "b4c93050",
   "metadata": {},
   "outputs": [
    {
     "data": {
      "text/plain": [
       "(5572, 5)"
      ]
     },
     "execution_count": 5,
     "metadata": {},
     "output_type": "execute_result"
    }
   ],
   "source": [
    "df.shape"
   ]
  },
  {
   "cell_type": "code",
   "execution_count": 6,
   "id": "3c81e0f5",
   "metadata": {},
   "outputs": [
    {
     "name": "stdout",
     "output_type": "stream",
     "text": [
      "<class 'pandas.core.frame.DataFrame'>\n",
      "RangeIndex: 5572 entries, 0 to 5571\n",
      "Data columns (total 5 columns):\n",
      " #   Column      Non-Null Count  Dtype \n",
      "---  ------      --------------  ----- \n",
      " 0   v1          5572 non-null   object\n",
      " 1   v2          5572 non-null   object\n",
      " 2   Unnamed: 2  50 non-null     object\n",
      " 3   Unnamed: 3  12 non-null     object\n",
      " 4   Unnamed: 4  6 non-null      object\n",
      "dtypes: object(5)\n",
      "memory usage: 217.8+ KB\n"
     ]
    }
   ],
   "source": [
    "df.info()"
   ]
  },
  {
   "cell_type": "code",
   "execution_count": 7,
   "id": "d40b2338",
   "metadata": {},
   "outputs": [
    {
     "data": {
      "text/plain": [
       "v1               0\n",
       "v2               0\n",
       "Unnamed: 2    5522\n",
       "Unnamed: 3    5560\n",
       "Unnamed: 4    5566\n",
       "dtype: int64"
      ]
     },
     "execution_count": 7,
     "metadata": {},
     "output_type": "execute_result"
    }
   ],
   "source": [
    "df.isnull().sum()"
   ]
  },
  {
   "cell_type": "code",
   "execution_count": 8,
   "id": "c88e14e8",
   "metadata": {},
   "outputs": [],
   "source": [
    "df.rename(columns={'v1':'Target','v2':'Message'},inplace=True)"
   ]
  },
  {
   "cell_type": "code",
   "execution_count": 9,
   "id": "792fddb0",
   "metadata": {},
   "outputs": [
    {
     "data": {
      "image/png": "[encoded data removed]",
      "text/plain": [
       "<Figure size 640x480 with 1 Axes>"
      ]
     },
     "metadata": {},
     "output_type": "display_data"
    }
   ],
   "source": [
    "plt.pie(df['Target'].value_counts(), labels=['ham','spam'],autopct=\"%0.2f\")\n",
    "plt.show()"
   ]
  },
  {
   "cell_type": "markdown",
   "id": "436acfcb",
   "metadata": {},
   "source": [
    "# 4. Data Pre-processing"
   ]
  },
  {
   "cell_type": "markdown",
   "id": "f18dc609",
   "metadata": {},
   "source": [
    "### 4.1 Handling Missing Values"
   ]
  },
  {
   "cell_type": "code",
   "execution_count": 10,
   "id": "9165fe90",
   "metadata": {},
   "outputs": [],
   "source": [
    "df = df.drop(columns=['Unnamed: 2','Unnamed: 3','Unnamed: 4'])"
   ]
  },
  {
   "cell_type": "markdown",
   "id": "292aaf39",
   "metadata": {},
   "source": [
    "### 4.2 Handling Duplicate Records"
   ]
  },
  {
   "cell_type": "code",
   "execution_count": 11,
   "id": "30cfe4e7",
   "metadata": {},
   "outputs": [
    {
     "data": {
      "text/plain": [
       "403"
      ]
     },
     "execution_count": 11,
     "metadata": {},
     "output_type": "execute_result"
    }
   ],
   "source": [
    "df.duplicated().sum()"
   ]
  },
  {
   "cell_type": "code",
   "execution_count": 12,
   "id": "3d94df8e",
   "metadata": {},
   "outputs": [],
   "source": [
    "df = df.drop_duplicates(keep='first')"
   ]
  },
  {
   "cell_type": "code",
   "execution_count": 13,
   "id": "63fb7008",
   "metadata": {},
   "outputs": [
    {
     "data": {
      "text/plain": [
       "(5169, 2)"
      ]
     },
     "execution_count": 13,
     "metadata": {},
     "output_type": "execute_result"
    }
   ],
   "source": [
    "df.shape"
   ]
  },
  {
   "cell_type": "markdown",
   "id": "7659d70d",
   "metadata": {},
   "source": [
    "### 4.3 Label Encoding"
   ]
  },
  {
   "cell_type": "code",
   "execution_count": 14,
   "id": "f72724c9",
   "metadata": {},
   "outputs": [],
   "source": [
    "encoder = LabelEncoder()\n",
    "df['Target'] = encoder.fit_transform(df['Target'])"
   ]
  },
  {
   "cell_type": "markdown",
   "id": "3ab74288",
   "metadata": {},
   "source": [
    "### 4.4 Text Preprocessing"
   ]
  },
  {
   "cell_type": "code",
   "execution_count": 15,
   "id": "072cfddd",
   "metadata": {},
   "outputs": [],
   "source": [
    "stemmer = PorterStemmer()"
   ]
  },
  {
   "cell_type": "code",
   "execution_count": 16,
   "id": "b91ca026",
   "metadata": {},
   "outputs": [],
   "source": [
    "def transform_text(text):\n",
    "    text = nltk.word_tokenize(text.lower())\n",
    "    text = [stemmer.stem(word) for word in text if word.isalnum()]\n",
    "    text = [word for word in text if word not in stop_words and word not in string.punctuation]\n",
    "\n",
    "    return \" \".join(text)"
   ]
  },
  {
   "cell_type": "code",
   "execution_count": 17,
   "id": "467d03cd",
   "metadata": {},
   "outputs": [],
   "source": [
    "df['Transformed_Text'] = df['Message'].apply(transform_text)"
   ]
  },
  {
   "cell_type": "markdown",
   "id": "e9fce17b",
   "metadata": {},
   "source": [
    "### 4.5 Feature Engineering"
   ]
  },
  {
   "cell_type": "code",
   "execution_count": 19,
   "id": "b56b6a0d",
   "metadata": {},
   "outputs": [],
   "source": [
    "preprocessor = TfidfVectorizer(max_features=3000)"
   ]
  },
  {
   "cell_type": "code",
   "execution_count": 20,
   "id": "50c5946a",
   "metadata": {},
   "outputs": [],
   "source": [
    "df['Transformed_Text'] = preprocessor.fit_transform(df['Transformed_Text']).toarray()"
   ]
  },
  {
   "cell_type": "markdown",
   "id": "87efbafb",
   "metadata": {},
   "source": [
    "### 4.6 Training and Testing Data Preparation"
   ]
  },
  {
   "cell_type": "code",
   "execution_count": 21,
   "id": "c2d74f16",
   "metadata": {},
   "outputs": [],
   "source": [
    "x = df['Transformed_Text'] \n",
    "y = df['Target'].values"
   ]
  },
  {
   "cell_type": "code",
   "execution_count": 22,
   "id": "d2b2861d",
   "metadata": {},
   "outputs": [],
   "source": [
    "x_train, x_test, y_train, y_test = train_test_split(x, y, test_size=0.2, random_state=20)\n",
    "\n",
    "x_train = pd.DataFrame(x_train)\n",
    "y_train = pd.DataFrame(y_train)\n",
    "x_test = pd.DataFrame(x_test)\n",
    "x_test = pd.DataFrame(x_test)"
   ]
  },
  {
   "cell_type": "code",
   "execution_count": 23,
   "id": "d73acf6d",
   "metadata": {},
   "outputs": [
    {
     "name": "stdout",
     "output_type": "stream",
     "text": [
      "(5169,) (5169,)\n",
      "(4135, 1) (4135, 1)\n",
      "(1034, 1) (1034,)\n"
     ]
    }
   ],
   "source": [
    "print(x.shape, y.shape)\n",
    "print(x_train.shape, y_train.shape)\n",
    "print(x_test.shape, y_test.shape)"
   ]
  },
  {
   "cell_type": "markdown",
   "id": "7cdafd6f",
   "metadata": {},
   "source": [
    "# 5. Modelling"
   ]
  },
  {
   "cell_type": "markdown",
   "id": "0a081409",
   "metadata": {},
   "source": [
    "### 5.1 Model Training"
   ]
  },
  {
   "cell_type": "code",
   "execution_count": 32,
   "id": "d58f4507",
   "metadata": {},
   "outputs": [],
   "source": [
    "models = {\n",
    "    'Logistic Regression': LogisticRegression(),\n",
    "    'Decision Tree': DecisionTreeClassifier(),\n",
    "    'Random Forest': RandomForestClassifier(),\n",
    "    'Support Vector Machine': SVC(probability=True),\n",
    "    'Naive Bayes': GaussianNB(),\n",
    "    'Gradient Boosting': GradientBoostingClassifier(),\n",
    "    'XG Boost': XGBClassifier(),\n",
    "    'Extra Trees Classifier': ExtraTreesClassifier()\n",
    "}"
   ]
  },
  {
   "cell_type": "code",
   "execution_count": 33,
   "id": "17a6d90f",
   "metadata": {},
   "outputs": [
    {
     "name": "stdout",
     "output_type": "stream",
     "text": [
      "Model: Logistic Regression\n",
      "Training Accuracy: 0.8773881499395405\n",
      "Testing Accuracy: 0.8588007736943907\n",
      "==================================================\n",
      "Model: Decision Tree\n",
      "Training Accuracy: 0.8788391777509069\n",
      "Testing Accuracy: 0.8597678916827853\n",
      "==================================================\n",
      "Model: Random Forest\n",
      "Training Accuracy: 0.8788391777509069\n",
      "Testing Accuracy: 0.8597678916827853\n",
      "==================================================\n",
      "Model: Support Vector Machine\n",
      "Training Accuracy: 0.8788391777509069\n",
      "Testing Accuracy: 0.8597678916827853\n",
      "==================================================\n",
      "Model: Naive Bayes\n",
      "Training Accuracy: 0.8788391777509069\n",
      "Testing Accuracy: 0.8597678916827853\n",
      "==================================================\n",
      "Model: Gradient Boosting\n",
      "Training Accuracy: 0.8788391777509069\n",
      "Testing Accuracy: 0.8597678916827853\n",
      "==================================================\n",
      "Model: XG Boost\n",
      "Training Accuracy: 0.8773881499395405\n",
      "Testing Accuracy: 0.8588007736943907\n",
      "==================================================\n",
      "Model: Extra Trees Classifier\n",
      "Training Accuracy: 0.8788391777509069\n",
      "Testing Accuracy: 0.8597678916827853\n",
      "==================================================\n",
      "\n",
      "The best model based on accuracy is Decision Tree with Testing Accuracy: 0.8597678916827853\n"
     ]
    }
   ],
   "source": [
    "model_list = []\n",
    "train_accuracy_list = []\n",
    "test_accuracy_list = []\n",
    "\n",
    "for model_name, model in models.items():\n",
    "\n",
    "    model.fit(x_train, y_train)\n",
    "    y_pred_train = model.predict(x_train)\n",
    "    y_pred = model.predict(x_test)\n",
    "\n",
    "    train_accuracy = accuracy_score(y_train, y_pred_train)\n",
    "    test_accuracy = accuracy_score(y_test, y_pred)\n",
    "\n",
    "    print(f\"Model: {model_name}\")\n",
    "    print(f\"Training Accuracy: {train_accuracy}\")\n",
    "    print(f\"Testing Accuracy: {test_accuracy}\")\n",
    "\n",
    "    model_list.append(model_name)\n",
    "    train_accuracy_list.append(train_accuracy)\n",
    "    test_accuracy_list.append(test_accuracy)\n",
    "    print(\"=\" * 50)\n",
    "\n",
    "max_accuracy_index = test_accuracy_list.index(max(test_accuracy_list))\n",
    "print(f\"\\nThe best model based on testing accuracy is {model_list[max_accuracy_index]} with: {test_accuracy_list[max_accuracy_index]}\")"
   ]
  },
  {
   "cell_type": "code",
   "execution_count": 34,
   "id": "d3e90d3f",
   "metadata": {},
   "outputs": [
    {
     "data": {
      "text/html": [
       "<div>\n",
       "<style scoped>\n",
       "    .dataframe tbody tr th:only-of-type {\n",
       "        vertical-align: middle;\n",
       "    }\n",
       "\n",
       "    .dataframe tbody tr th {\n",
       "        vertical-align: top;\n",
       "    }\n",
       "\n",
       "    .dataframe thead th {\n",
       "        text-align: right;\n",
       "    }\n",
       "</style>\n",
       "<table border=\"1\" class=\"dataframe\">\n",
       "  <thead>\n",
       "    <tr style=\"text-align: right;\">\n",
       "      <th></th>\n",
       "      <th>Model</th>\n",
       "      <th>Train Accuracy</th>\n",
       "      <th>Test Accuracy</th>\n",
       "    </tr>\n",
       "  </thead>\n",
       "  <tbody>\n",
       "    <tr>\n",
       "      <th>1</th>\n",
       "      <td>Decision Tree</td>\n",
       "      <td>0.878839</td>\n",
       "      <td>0.859768</td>\n",
       "    </tr>\n",
       "    <tr>\n",
       "      <th>2</th>\n",
       "      <td>Random Forest</td>\n",
       "      <td>0.878839</td>\n",
       "      <td>0.859768</td>\n",
       "    </tr>\n",
       "    <tr>\n",
       "      <th>3</th>\n",
       "      <td>Support Vector Machine</td>\n",
       "      <td>0.878839</td>\n",
       "      <td>0.859768</td>\n",
       "    </tr>\n",
       "    <tr>\n",
       "      <th>4</th>\n",
       "      <td>Naive Bayes</td>\n",
       "      <td>0.878839</td>\n",
       "      <td>0.859768</td>\n",
       "    </tr>\n",
       "    <tr>\n",
       "      <th>5</th>\n",
       "      <td>Gradient Boosting</td>\n",
       "      <td>0.878839</td>\n",
       "      <td>0.859768</td>\n",
       "    </tr>\n",
       "    <tr>\n",
       "      <th>7</th>\n",
       "      <td>Extra Trees Classifier</td>\n",
       "      <td>0.878839</td>\n",
       "      <td>0.859768</td>\n",
       "    </tr>\n",
       "    <tr>\n",
       "      <th>0</th>\n",
       "      <td>Logistic Regression</td>\n",
       "      <td>0.877388</td>\n",
       "      <td>0.858801</td>\n",
       "    </tr>\n",
       "    <tr>\n",
       "      <th>6</th>\n",
       "      <td>XG Boost</td>\n",
       "      <td>0.877388</td>\n",
       "      <td>0.858801</td>\n",
       "    </tr>\n",
       "  </tbody>\n",
       "</table>\n",
       "</div>"
      ],
      "text/plain": [
       "                    Model  Train Accuracy  Test Accuracy\n",
       "1           Decision Tree        0.878839       0.859768\n",
       "2           Random Forest        0.878839       0.859768\n",
       "3  Support Vector Machine        0.878839       0.859768\n",
       "4             Naive Bayes        0.878839       0.859768\n",
       "5       Gradient Boosting        0.878839       0.859768\n",
       "7  Extra Trees Classifier        0.878839       0.859768\n",
       "0     Logistic Regression        0.877388       0.858801\n",
       "6                XG Boost        0.877388       0.858801"
      ]
     },
     "execution_count": 34,
     "metadata": {},
     "output_type": "execute_result"
    }
   ],
   "source": [
    "results = {\n",
    "    'Model': model_list,\n",
    "    'Train Accuracy': train_accuracy_list,\n",
    "    'Test Accuracy': test_accuracy_list,\n",
    "}\n",
    "\n",
    "results = pd.DataFrame(results).sort_values(by=['Test Accuracy'], ascending=False)\n",
    "results"
   ]
  },
  {
   "cell_type": "code",
   "execution_count": 35,
   "id": "4654b0e8",
   "metadata": {},
   "outputs": [],
   "source": [
    "param_grid = {\n",
    "    'Logistic Regression': {'C': [0.001, 0.01, 0.1, 1, 10, 100],'penalty': ['l1', 'l2']},\n",
    "    'Decision Tree': {'criterion': ['gini', 'entropy'],'max_depth': [None, 5, 10, 15, 20],'min_samples_split': [2, 5, 10]},\n",
    "    'Random Forest': {'n_estimators': [50, 100, 150, 200],'max_depth': [5, 10, 15, 20],'criterion': ['gini', 'entropy']},\n",
    "    'Support Vector Machine': {'C': [0.1, 1, 10, 100],'gamma': [1, 0.1, 0.01, 0.001],'kernel': ['linear', 'rbf', 'poly', 'sigmoid']},\n",
    "    'Naive Bayes': {},\n",
    "    'Gradient Boosting': {'n_estimators': [50, 100, 150, 200],'learning_rate': [0.01, 0.1],'max_depth': [3, 5, 7, 9]},\n",
    "    'XG Boost': {'learning_rate': [0.01, 0.1],'n_estimators': [50, 100, 150, 200],'max_depth': [3, 5, 7, 9]},\n",
    "    'Extra Trees Classifier': {'n_estimators': [50, 100, 150, 200],'max_depth': [5, 10, 15, 20],'criterion': ['gini', 'entropy']}\n",
    "}"
   ]
  },
  {
   "cell_type": "code",
   "execution_count": 37,
   "id": "0c7fff0c",
   "metadata": {},
   "outputs": [
    {
     "name": "stdout",
     "output_type": "stream",
     "text": [
      "Best parameters for Logistic Regression: {'C': 100, 'penalty': 'l2'}\n",
      "Train Accuracy for Logistic Regression: 0.8788391777509069\n",
      "Test Accuracy for Logistic Regression: 0.8597678916827853\n",
      "==================================================\n",
      "Best parameters for Decision Tree: {'criterion': 'gini', 'max_depth': None, 'min_samples_split': 2}\n",
      "Train Accuracy for Decision Tree: 0.8788391777509069\n",
      "Test Accuracy for Decision Tree: 0.8597678916827853\n",
      "==================================================\n",
      "Best parameters for Random Forest: {'criterion': 'gini', 'max_depth': 5, 'n_estimators': 50}\n",
      "Train Accuracy for Random Forest: 0.8788391777509069\n",
      "Test Accuracy for Random Forest: 0.8597678916827853\n",
      "==================================================\n",
      "Best parameters for Support Vector Machine: {'C': 10, 'gamma': 1, 'kernel': 'linear'}\n",
      "Train Accuracy for Support Vector Machine: 0.8788391777509069\n",
      "Test Accuracy for Support Vector Machine: 0.8597678916827853\n",
      "==================================================\n",
      "Best parameters for Naive Bayes: {}\n",
      "Train Accuracy for Naive Bayes: 0.8788391777509069\n",
      "Test Accuracy for Naive Bayes: 0.8597678916827853\n",
      "==================================================\n",
      "Best parameters for Gradient Boosting: {'learning_rate': 0.01, 'max_depth': 3, 'n_estimators': 100}\n",
      "Train Accuracy for Gradient Boosting: 0.8788391777509069\n",
      "Test Accuracy for Gradient Boosting: 0.8597678916827853\n",
      "==================================================\n",
      "Best parameters for XG Boost: {'learning_rate': 0.01, 'max_depth': 3, 'n_estimators': 50}\n",
      "Train Accuracy for XG Boost: 0.8773881499395405\n",
      "Test Accuracy for XG Boost: 0.8588007736943907\n",
      "==================================================\n",
      "Best parameters for Extra Trees Classifier: {'criterion': 'gini', 'max_depth': 5, 'n_estimators': 50}\n",
      "Train Accuracy for Extra Trees Classifier: 0.8788391777509069\n",
      "Test Accuracy for Extra Trees Classifier: 0.8597678916827853\n",
      "==================================================\n",
      "\n",
      "We got Logistic Regression as the model with the highest test accuracy of 0.8597678916827853\n"
     ]
    }
   ],
   "source": [
    "modelss = []\n",
    "train_accuracies = []\n",
    "test_accuracies = []\n",
    "\n",
    "\n",
    "for model_name, model in models.items():\n",
    "    if model_name in param_grid:\n",
    "        grid_search = GridSearchCV(model, param_grid[model_name], cv=5, n_jobs=-1)\n",
    "\n",
    "        grid_search.fit(x_train, y_train)\n",
    "        best_model_cv = grid_search.best_estimator_\n",
    "        best_params = grid_search.best_params_\n",
    "        print(f\"Best parameters for {model_name}: {best_params}\")\n",
    "\n",
    "        y_train_pred = best_model_cv.predict(x_train)\n",
    "        y_pred = best_model_cv.predict(x_test)\n",
    "\n",
    "        train_accuracy = accuracy_score(y_train, y_train_pred)\n",
    "        test_accuracy = accuracy_score(y_test, y_pred)\n",
    "\n",
    "        modelss.append(model_name)\n",
    "        train_accuracies.append(train_accuracy)\n",
    "        test_accuracies.append(test_accuracy)\n",
    "\n",
    "        print(f\"Train Accuracy for {model_name}: {train_accuracy}\")\n",
    "        print(f\"Test Accuracy for {model_name}: {test_accuracy}\")\n",
    "        print(\"=\" * 50)\n",
    "\n",
    "best_test_accuracy_index = test_accuracies.index(max(test_accuracies))\n",
    "print(f\"\\nWe got {modelss[best_test_accuracy_index]} as the model with the highest test accuracy of {test_accuracies[best_test_accuracy_index]}\")"
   ]
  },
  {
   "cell_type": "code",
   "execution_count": 31,
   "id": "0bc9f90f",
   "metadata": {},
   "outputs": [
    {
     "data": {
      "text/html": [
       "<div>\n",
       "<style scoped>\n",
       "    .dataframe tbody tr th:only-of-type {\n",
       "        vertical-align: middle;\n",
       "    }\n",
       "\n",
       "    .dataframe tbody tr th {\n",
       "        vertical-align: top;\n",
       "    }\n",
       "\n",
       "    .dataframe thead th {\n",
       "        text-align: right;\n",
       "    }\n",
       "</style>\n",
       "<table border=\"1\" class=\"dataframe\">\n",
       "  <thead>\n",
       "    <tr style=\"text-align: right;\">\n",
       "      <th></th>\n",
       "      <th>Model</th>\n",
       "      <th>Train Accuracy</th>\n",
       "      <th>Test Accuracy</th>\n",
       "      <th>Precision</th>\n",
       "      <th>Recall (Sensitivity)</th>\n",
       "      <th>F1 Score</th>\n",
       "      <th>Specificity</th>\n",
       "      <th>ROC AUC Score</th>\n",
       "    </tr>\n",
       "  </thead>\n",
       "  <tbody>\n",
       "    <tr>\n",
       "      <th>0</th>\n",
       "      <td>Logistic Regression</td>\n",
       "      <td>0.878839</td>\n",
       "      <td>0.859768</td>\n",
       "      <td>1.0</td>\n",
       "      <td>0.006849</td>\n",
       "      <td>0.013605</td>\n",
       "      <td>1.0</td>\n",
       "      <td>0.503425</td>\n",
       "    </tr>\n",
       "    <tr>\n",
       "      <th>1</th>\n",
       "      <td>Decision Tree</td>\n",
       "      <td>0.878839</td>\n",
       "      <td>0.859768</td>\n",
       "      <td>1.0</td>\n",
       "      <td>0.006849</td>\n",
       "      <td>0.013605</td>\n",
       "      <td>1.0</td>\n",
       "      <td>0.503425</td>\n",
       "    </tr>\n",
       "    <tr>\n",
       "      <th>2</th>\n",
       "      <td>Random Forest</td>\n",
       "      <td>0.878839</td>\n",
       "      <td>0.859768</td>\n",
       "      <td>1.0</td>\n",
       "      <td>0.006849</td>\n",
       "      <td>0.013605</td>\n",
       "      <td>1.0</td>\n",
       "      <td>0.503425</td>\n",
       "    </tr>\n",
       "    <tr>\n",
       "      <th>3</th>\n",
       "      <td>Support Vector Machine</td>\n",
       "      <td>0.878839</td>\n",
       "      <td>0.859768</td>\n",
       "      <td>1.0</td>\n",
       "      <td>0.006849</td>\n",
       "      <td>0.013605</td>\n",
       "      <td>1.0</td>\n",
       "      <td>0.503425</td>\n",
       "    </tr>\n",
       "    <tr>\n",
       "      <th>4</th>\n",
       "      <td>Naive Bayes</td>\n",
       "      <td>0.878839</td>\n",
       "      <td>0.859768</td>\n",
       "      <td>1.0</td>\n",
       "      <td>0.006849</td>\n",
       "      <td>0.013605</td>\n",
       "      <td>1.0</td>\n",
       "      <td>0.503425</td>\n",
       "    </tr>\n",
       "    <tr>\n",
       "      <th>5</th>\n",
       "      <td>Gradient Boosting</td>\n",
       "      <td>0.878839</td>\n",
       "      <td>0.859768</td>\n",
       "      <td>1.0</td>\n",
       "      <td>0.006849</td>\n",
       "      <td>0.013605</td>\n",
       "      <td>1.0</td>\n",
       "      <td>0.503425</td>\n",
       "    </tr>\n",
       "    <tr>\n",
       "      <th>7</th>\n",
       "      <td>Extra Trees Classifier</td>\n",
       "      <td>0.878839</td>\n",
       "      <td>0.859768</td>\n",
       "      <td>1.0</td>\n",
       "      <td>0.006849</td>\n",
       "      <td>0.013605</td>\n",
       "      <td>1.0</td>\n",
       "      <td>0.503425</td>\n",
       "    </tr>\n",
       "    <tr>\n",
       "      <th>6</th>\n",
       "      <td>XG Boost</td>\n",
       "      <td>0.877388</td>\n",
       "      <td>0.858801</td>\n",
       "      <td>0.0</td>\n",
       "      <td>0.000000</td>\n",
       "      <td>0.000000</td>\n",
       "      <td>1.0</td>\n",
       "      <td>0.500000</td>\n",
       "    </tr>\n",
       "  </tbody>\n",
       "</table>\n",
       "</div>"
      ],
      "text/plain": [
       "                    Model  Train Accuracy  Test Accuracy  Precision  \\\n",
       "0     Logistic Regression        0.878839       0.859768        1.0   \n",
       "1           Decision Tree        0.878839       0.859768        1.0   \n",
       "2           Random Forest        0.878839       0.859768        1.0   \n",
       "3  Support Vector Machine        0.878839       0.859768        1.0   \n",
       "4             Naive Bayes        0.878839       0.859768        1.0   \n",
       "5       Gradient Boosting        0.878839       0.859768        1.0   \n",
       "7  Extra Trees Classifier        0.878839       0.859768        1.0   \n",
       "6                XG Boost        0.877388       0.858801        0.0   \n",
       "\n",
       "   Recall (Sensitivity)  F1 Score  Specificity  ROC AUC Score  \n",
       "0              0.006849  0.013605          1.0       0.503425  \n",
       "1              0.006849  0.013605          1.0       0.503425  \n",
       "2              0.006849  0.013605          1.0       0.503425  \n",
       "3              0.006849  0.013605          1.0       0.503425  \n",
       "4              0.006849  0.013605          1.0       0.503425  \n",
       "5              0.006849  0.013605          1.0       0.503425  \n",
       "7              0.006849  0.013605          1.0       0.503425  \n",
       "6              0.000000  0.000000          1.0       0.500000  "
      ]
     },
     "execution_count": 31,
     "metadata": {},
     "output_type": "execute_result"
    }
   ],
   "source": [
    "results1 = {\n",
    "    'Model': modelss,\n",
    "    'Train Accuracy': train_accuracies,\n",
    "    'Test Accuracy': test_accuracies,\n",
    "    'Precision': precisions,\n",
    "    'Recall (Sensitivity)': recalls,\n",
    "    'F1 Score': f1_scores,\n",
    "    'Specificity': specificities,\n",
    "    'ROC AUC Score': roc_auc_scores\n",
    "}\n",
    "results1 = pd.DataFrame(results1).sort_values(by=['Test Accuracy', 'Precision', 'Recall (Sensitivity)'], ascending=False)\n",
    "results1"
   ]
  },
  {
   "cell_type": "code",
   "execution_count": null,
   "id": "9e74364d",
   "metadata": {},
   "outputs": [],
   "source": [
    "fig, ax = plt.subplots(figsize=(10, 6))\n",
    "\n",
    "for model_name, model in models.items():\n",
    "    y_score = model.predict_proba(x_test)[:, 1]\n",
    "    fpr, tpr, _ = roc_curve(y_test, y_score)\n",
    "    roc_auc = roc_auc_score(y_test, y_score)\n",
    "    ax.plot(fpr, tpr, lw=2, label='%s (area = %0.2f)' % (model_name, roc_auc))\n",
    "\n",
    "ax.plot([0, 1], [0, 1], color='navy', lw=2, linestyle='--')\n",
    "ax.set_xlim([0.0, 1.0])\n",
    "ax.set_ylim([0.0, 1.05])\n",
    "ax.set_xlabel('False Positive Rate')\n",
    "ax.set_ylabel('True Positive Rate')\n",
    "ax.set_title('Receiver Operating Characteristic')\n",
    "ax.legend(loc=\"lower right\")\n",
    "plt.tight_layout()\n",
    "plt.show()"
   ]
  },
  {
   "cell_type": "code",
   "execution_count": null,
   "id": "ccf2f6cd",
   "metadata": {},
   "outputs": [],
   "source": [
    "best_model_name = model_list[max_accuracy_index]\n",
    "best_model = models[best_model_name]\n",
    "\n",
    "pickle.dump(preprocessor,open('Spam_Preprocessor.pkl','wb'))\n",
    "pickle.dump(best_model,open('Spam_Model.pkl','wb'))"
   ]
  }
 ],
 "metadata": {
  "kernelspec": {
   "display_name": "Python 3 (ipykernel)",
   "language": "python",
   "name": "python3"
  },
  "language_info": {
   "codemirror_mode": {
    "name": "ipython",
    "version": 3
   },
   "file_extension": ".py",
   "mimetype": "text/x-python",
   "name": "python",
   "nbconvert_exporter": "python",
   "pygments_lexer": "ipython3",
   "version": "3.11.5"
  }
 },
 "nbformat": 4,
 "nbformat_minor": 5
}
